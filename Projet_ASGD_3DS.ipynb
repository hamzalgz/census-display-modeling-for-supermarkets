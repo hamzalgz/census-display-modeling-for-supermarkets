{
 "cells": [
  {
   "cell_type": "markdown",
   "metadata": {},
   "source": [
    "## Réalisé Par :"
   ]
  },
  {
   "cell_type": "markdown",
   "metadata": {},
   "source": [
    "- **AGOURAM**  Mohamed\n",
    "- **OUHMIZ**   Rida\n",
    "- **LAGRAMEZ** Hamza"
   ]
  },
  {
   "cell_type": "markdown",
   "metadata": {},
   "source": [
    "- ### 3éme année Data Science"
   ]
  },
  {
   "cell_type": "code",
   "execution_count": null,
   "metadata": {
    "id": "lsqPLqcBXPjK"
   },
   "outputs": [],
   "source": [
    "!sudo apt-get install python-setuptools"
   ]
  },
  {
   "cell_type": "code",
   "execution_count": null,
   "metadata": {
    "colab": {
     "base_uri": "https://localhost:8080/",
     "height": 363
    },
    "id": "uzCLOYsxWUKG",
    "outputId": "9a379edc-e402-4dce-f7d8-10f293ba85e2"
   },
   "outputs": [
    {
     "name": "stdout",
     "output_type": "stream",
     "text": [
      "Found existing installation: xgboost 1.5.2\n",
      "Uninstalling xgboost-1.5.2:\n",
      "  Would remove:\n",
      "    /usr/local/lib/python3.7/dist-packages/xgboost-1.5.2.dist-info/*\n",
      "    /usr/local/lib/python3.7/dist-packages/xgboost.libs/libgomp-a34b3233.so.1.0.0\n",
      "    /usr/local/lib/python3.7/dist-packages/xgboost/*\n",
      "Proceed (y/n)? y\n",
      "  Successfully uninstalled xgboost-1.5.2\n",
      "Collecting xgboost==0.81\n",
      "  Downloading xgboost-0.81-py2.py3-none-manylinux1_x86_64.whl (16.6 MB)\n",
      "\u001b[K     |████████████████████████████████| 16.6 MB 7.3 MB/s \n",
      "\u001b[?25hRequirement already satisfied: scipy in /usr/local/lib/python3.7/dist-packages (from xgboost==0.81) (1.4.1)\n",
      "Requirement already satisfied: numpy in /usr/local/lib/python3.7/dist-packages (from xgboost==0.81) (1.19.5)\n",
      "Installing collected packages: xgboost\n",
      "Successfully installed xgboost-0.81\n"
     ]
    },
    {
     "data": {
      "application/vnd.colab-display-data+json": {
       "pip_warning": {
        "packages": [
         "xgboost"
        ]
       }
      }
     },
     "metadata": {},
     "output_type": "display_data"
    }
   ],
   "source": [
    "!pip uninstall xgboost\n",
    "!pip install xgboost==0.81"
   ]
  },
  {
   "cell_type": "code",
   "execution_count": 241,
   "metadata": {
    "scrolled": true
   },
   "outputs": [
    {
     "name": "stdout",
     "output_type": "stream",
     "text": [
      "Collecting optuna\n",
      "  Downloading optuna-2.10.0-py3-none-any.whl (308 kB)\n",
      "Requirement already satisfied: tqdm in c:\\users\\hamza lagramez\\anaconda3\\lib\\site-packages (from optuna) (4.59.0)\n",
      "Collecting colorlog\n",
      "  Downloading colorlog-6.6.0-py2.py3-none-any.whl (11 kB)\n",
      "Collecting cliff\n",
      "  Downloading cliff-3.10.0-py3-none-any.whl (80 kB)\n",
      "Collecting cmaes>=0.8.2\n",
      "  Downloading cmaes-0.8.2-py3-none-any.whl (15 kB)\n",
      "Requirement already satisfied: packaging>=20.0 in c:\\users\\hamza lagramez\\anaconda3\\lib\\site-packages (from optuna) (20.9)\n",
      "Collecting sqlalchemy>=1.1.0\n",
      "  Downloading SQLAlchemy-1.4.31-cp37-cp37m-win_amd64.whl (1.5 MB)\n",
      "Requirement already satisfied: scipy!=1.4.0 in c:\\users\\hamza lagramez\\anaconda3\\lib\\site-packages (from optuna) (1.6.2)\n",
      "Requirement already satisfied: PyYAML in c:\\users\\hamza lagramez\\anaconda3\\lib\\site-packages (from optuna) (5.4.1)\n",
      "Collecting alembic\n",
      "  Downloading alembic-1.7.6-py3-none-any.whl (210 kB)\n",
      "Requirement already satisfied: numpy in c:\\users\\hamza lagramez\\anaconda3\\lib\\site-packages (from optuna) (1.19.4)\n",
      "Requirement already satisfied: pyparsing>=2.0.2 in c:\\users\\hamza lagramez\\anaconda3\\lib\\site-packages (from packaging>=20.0->optuna) (2.4.7)\n",
      "Collecting greenlet!=0.4.17\n",
      "  Downloading greenlet-1.1.2-cp37-cp37m-win_amd64.whl (101 kB)\n",
      "Requirement already satisfied: importlib-metadata in c:\\users\\hamza lagramez\\anaconda3\\lib\\site-packages (from sqlalchemy>=1.1.0->optuna) (3.7.3)\n",
      "Requirement already satisfied: importlib-resources in c:\\users\\hamza lagramez\\anaconda3\\lib\\site-packages (from alembic->optuna) (5.1.4)\n",
      "Collecting Mako\n",
      "  Downloading Mako-1.1.6-py2.py3-none-any.whl (75 kB)\n",
      "Collecting pbr!=2.1.0,>=2.0.0\n",
      "  Downloading pbr-5.8.1-py2.py3-none-any.whl (113 kB)\n",
      "Collecting PrettyTable>=0.7.2\n",
      "  Downloading prettytable-3.1.1-py3-none-any.whl (26 kB)\n",
      "Collecting cmd2>=1.0.0\n",
      "  Downloading cmd2-2.3.3-py3-none-any.whl (149 kB)\n",
      "Collecting stevedore>=2.0.1\n",
      "  Downloading stevedore-3.5.0-py3-none-any.whl (49 kB)\n",
      "Collecting autopage>=0.4.0\n",
      "  Downloading autopage-0.5.0-py3-none-any.whl (29 kB)\n",
      "Collecting pyperclip>=1.6\n",
      "  Downloading pyperclip-1.8.2.tar.gz (20 kB)\n",
      "Requirement already satisfied: typing-extensions in c:\\users\\hamza lagramez\\anaconda3\\lib\\site-packages (from cmd2>=1.0.0->cliff->optuna) (3.7.4.3)\n",
      "Requirement already satisfied: attrs>=16.3.0 in c:\\users\\hamza lagramez\\anaconda3\\lib\\site-packages (from cmd2>=1.0.0->cliff->optuna) (20.3.0)\n",
      "Requirement already satisfied: wcwidth>=0.1.7 in c:\\users\\hamza lagramez\\anaconda3\\lib\\site-packages (from cmd2>=1.0.0->cliff->optuna) (0.2.5)\n",
      "Requirement already satisfied: pyreadline in c:\\users\\hamza lagramez\\anaconda3\\lib\\site-packages (from cmd2>=1.0.0->cliff->optuna) (2.1)\n",
      "Requirement already satisfied: zipp>=0.5 in c:\\users\\hamza lagramez\\anaconda3\\lib\\site-packages (from importlib-metadata->sqlalchemy>=1.1.0->optuna) (3.4.1)\n",
      "Requirement already satisfied: colorama in c:\\users\\hamza lagramez\\anaconda3\\lib\\site-packages (from colorlog->optuna) (0.4.4)\n",
      "Requirement already satisfied: MarkupSafe>=0.9.2 in c:\\users\\hamza lagramez\\anaconda3\\lib\\site-packages (from Mako->alembic->optuna) (1.1.1)\n",
      "Building wheels for collected packages: pyperclip\n",
      "  Building wheel for pyperclip (setup.py): started\n",
      "  Building wheel for pyperclip (setup.py): finished with status 'done'\n",
      "  Created wheel for pyperclip: filename=pyperclip-1.8.2-py3-none-any.whl size=11107 sha256=7ca4c74f2395e81e5620d07830ec3e8b28cb3307e577dd4cd40cce174d742c24\n",
      "  Stored in directory: c:\\users\\hamza lagramez\\appdata\\local\\pip\\cache\\wheels\\9f\\18\\84\\8f69f8b08169c7bae2dde6bd7daf0c19fca8c8e500ee620a28\n",
      "Successfully built pyperclip\n",
      "Installing collected packages: pyperclip, pbr, greenlet, stevedore, sqlalchemy, PrettyTable, Mako, cmd2, autopage, colorlog, cmaes, cliff, alembic, optuna\n",
      "Successfully installed Mako-1.1.6 PrettyTable-3.1.1 alembic-1.7.6 autopage-0.5.0 cliff-3.10.0 cmaes-0.8.2 cmd2-2.3.3 colorlog-6.6.0 greenlet-1.1.2 optuna-2.10.0 pbr-5.8.1 pyperclip-1.8.2 sqlalchemy-1.4.31 stevedore-3.5.0\n"
     ]
    }
   ],
   "source": [
    "!pip install optuna"
   ]
  },
  {
   "cell_type": "code",
   "execution_count": 281,
   "metadata": {},
   "outputs": [],
   "source": [
    "# for inline plots in jupyter\n",
    "%matplotlib inline\n",
    "# import matplotlib\n",
    "import matplotlib.pyplot as plt\n",
    "# for latex equations\n",
    "from IPython.display import Math, Latex\n",
    "# for displaying images\n",
    "from IPython.core.display import Image\n",
    "# hide warnings\n",
    "import warnings\n",
    "warnings.filterwarnings('ignore')"
   ]
  },
  {
   "cell_type": "markdown",
   "metadata": {
    "id": "MZACPCaip0AA"
   },
   "source": [
    "# **Importation**"
   ]
  },
  {
   "cell_type": "markdown",
   "metadata": {
    "id": "kjjf2CHRokKM"
   },
   "source": [
    "Importation des bibliothèques contenant les modèles et les fonctions :"
   ]
  },
  {
   "cell_type": "code",
   "execution_count": 273,
   "metadata": {
    "id": "yxCAuA7gbjp3"
   },
   "outputs": [],
   "source": [
    "import time\n",
    "import pandas as pd\n",
    "import numpy as np\n",
    "import scipy.stats as stats\n",
    "from statsmodels.stats.outliers_influence import variance_inflation_factor\n",
    "from statsmodels.tools.tools import add_constant\n",
    "from copy import deepcopy\n",
    "from sklearn.model_selection import train_test_split, cross_val_score, RandomizedSearchCV\n",
    "from sklearn.metrics import classification_report, accuracy_score, make_scorer, mean_squared_error\n",
    "from sklearn.preprocessing import LabelEncoder, OneHotEncoder, StandardScaler\n",
    "from sklearn.linear_model import LogisticRegressionCV\n",
    "from sklearn.ensemble import RandomForestClassifier\n",
    "from sklearn.svm import SVC\n",
    "from sklearn.utils import resample\n",
    "from keras.layers import Dense\n",
    "from keras.models import Sequential\n",
    "from keras.callbacks import EarlyStopping\n",
    "import optuna \n",
    "from optuna.trial import Trial \n",
    "from xgboost import XGBClassifier\n",
    "import matplotlib.pyplot as plt\n",
    "import seaborn as sns"
   ]
  },
  {
   "cell_type": "markdown",
   "metadata": {
    "id": "FLbZYMO3p_oM"
   },
   "source": [
    "# Data loading "
   ]
  },
  {
   "cell_type": "code",
   "execution_count": 146,
   "metadata": {
    "id": "Ssc9mvjAbjqL"
   },
   "outputs": [],
   "source": [
    "dframe = pd.read_csv(\"new_Base_CDM.csv\", delimiter=';', header=1)"
   ]
  },
  {
   "cell_type": "code",
   "execution_count": 283,
   "metadata": {},
   "outputs": [],
   "source": [
    "#from @masumrumi'amazing plot!\n",
    "def plotting_3_chart(df, feature):\n",
    "    ## Importing seaborn, matplotlab and scipy modules. \n",
    "    import seaborn as sns\n",
    "    import matplotlib.pyplot as plt\n",
    "    import matplotlib.gridspec as gridspec\n",
    "    from scipy import stats\n",
    "    import matplotlib.style as style\n",
    "    style.use('fivethirtyeight')\n",
    "\n",
    "    ## Creating a customized chart. and giving in figsize and everything. \n",
    "    fig = plt.figure(constrained_layout=True, figsize=(12,8))\n",
    "    ## creating a grid of 3 cols and 3 rows. \n",
    "    grid = gridspec.GridSpec(ncols=3, nrows=3, figure=fig)\n",
    "    #gs = fig3.add_gridspec(3, 3)\n",
    "\n",
    "    ## Customizing the histogram grid. \n",
    "    ax1 = fig.add_subplot(grid[0, :2])\n",
    "    ## Set the title. \n",
    "    ax1.set_title('Histogram')\n",
    "    ## plot the histogram. \n",
    "    sns.distplot(df.loc[:,feature], norm_hist=True, ax = ax1)\n",
    "\n",
    "    # customizing the QQ_plot. \n",
    "    ax2 = fig.add_subplot(grid[1, :2])\n",
    "    ## Set the title. \n",
    "    ax2.set_title('QQ_plot')\n",
    "    ## Plotting the QQ_Plot. \n",
    "    stats.probplot(df.loc[:,feature], plot = ax2)\n",
    "\n",
    "    ## Customizing the Box Plot. \n",
    "    ax3 = fig.add_subplot(grid[:, 2])\n",
    "    ## Set title. \n",
    "    ax3.set_title('Box Plot')\n",
    "    ## Plotting the box plot. \n",
    "    sns.boxplot(df.loc[:,feature], orient='v', ax = ax3 );"
   ]
  },
  {
   "cell_type": "markdown",
   "metadata": {},
   "source": [
    "# Data Visualisation "
   ]
  },
  {
   "cell_type": "markdown",
   "metadata": {},
   "source": [
    "On visualise la densité des variables numériques du Data Set"
   ]
  },
  {
   "cell_type": "code",
   "execution_count": 294,
   "metadata": {},
   "outputs": [
    {
     "data": {
      "image/png": "[encoded data removed]",
      "text/plain": [
       "<Figure size 1152x432 with 6 Axes>"
      ]
     },
     "metadata": {},
     "output_type": "display_data"
    }
   ],
   "source": [
    "num_rows, num_cols = 2,3\n",
    "\n",
    "f, axes = plt.subplots(nrows=2, ncols=3, figsize=(16, 6))\n",
    "#f.suptitle('Distribution of Features', fontsize=16)\n",
    "for index, column in enumerate(dframe[numerics_val].columns):\n",
    "    i,j = (index // num_cols, index % num_cols)\n",
    "    g = sns.distplot(dframe[column], color=\"m\", label=\"%.2f\"%(dframe[column].skew()), ax=axes[i,j])\n",
    "    g = g.legend(loc=\"best\")\n",
    "\n",
    "\n",
    "plt.tight_layout()\n",
    "plt.show()"
   ]
  },
  {
   "cell_type": "markdown",
   "metadata": {
    "id": "yBqZ-QqzqiDd"
   },
   "source": [
    "Informations générales du Data Set ( noms de colonnes, le nombre de valeurs manquantes...)."
   ]
  },
  {
   "cell_type": "code",
   "execution_count": 147,
   "metadata": {},
   "outputs": [
    {
     "data": {
      "text/html": [
       "<div>\n",
       "<style scoped>\n",
       "    .dataframe tbody tr th:only-of-type {\n",
       "        vertical-align: middle;\n",
       "    }\n",
       "\n",
       "    .dataframe tbody tr th {\n",
       "        vertical-align: top;\n",
       "    }\n",
       "\n",
       "    .dataframe thead th {\n",
       "        text-align: right;\n",
       "    }\n",
       "</style>\n",
       "<table border=\"1\" class=\"dataframe\">\n",
       "  <thead>\n",
       "    <tr style=\"text-align: right;\">\n",
       "      <th></th>\n",
       "      <th>cor_sales_in_vol</th>\n",
       "      <th>cor_sales_in_val</th>\n",
       "      <th>turnover</th>\n",
       "      <th>value</th>\n",
       "      <th>VenteConv</th>\n",
       "    </tr>\n",
       "  </thead>\n",
       "  <tbody>\n",
       "    <tr>\n",
       "      <th>count</th>\n",
       "      <td>200737.000000</td>\n",
       "      <td>200737.000000</td>\n",
       "      <td>200737.000000</td>\n",
       "      <td>200737.000000</td>\n",
       "      <td>200737.000000</td>\n",
       "    </tr>\n",
       "    <tr>\n",
       "      <th>mean</th>\n",
       "      <td>6.326886</td>\n",
       "      <td>52.024741</td>\n",
       "      <td>65348.859647</td>\n",
       "      <td>32.754241</td>\n",
       "      <td>227.862773</td>\n",
       "    </tr>\n",
       "    <tr>\n",
       "      <th>std</th>\n",
       "      <td>18.264038</td>\n",
       "      <td>166.254333</td>\n",
       "      <td>57249.908990</td>\n",
       "      <td>16.034234</td>\n",
       "      <td>828.147639</td>\n",
       "    </tr>\n",
       "    <tr>\n",
       "      <th>min</th>\n",
       "      <td>0.060000</td>\n",
       "      <td>0.200000</td>\n",
       "      <td>1693.000000</td>\n",
       "      <td>1.000000</td>\n",
       "      <td>1.000000</td>\n",
       "    </tr>\n",
       "    <tr>\n",
       "      <th>25%</th>\n",
       "      <td>1.000000</td>\n",
       "      <td>10.540000</td>\n",
       "      <td>20115.000000</td>\n",
       "      <td>25.000000</td>\n",
       "      <td>40.000000</td>\n",
       "    </tr>\n",
       "    <tr>\n",
       "      <th>50%</th>\n",
       "      <td>3.000000</td>\n",
       "      <td>21.450000</td>\n",
       "      <td>51500.000000</td>\n",
       "      <td>30.000000</td>\n",
       "      <td>80.000000</td>\n",
       "    </tr>\n",
       "    <tr>\n",
       "      <th>75%</th>\n",
       "      <td>6.000000</td>\n",
       "      <td>45.140000</td>\n",
       "      <td>91146.000000</td>\n",
       "      <td>40.000000</td>\n",
       "      <td>189.000000</td>\n",
       "    </tr>\n",
       "    <tr>\n",
       "      <th>max</th>\n",
       "      <td>1475.000000</td>\n",
       "      <td>13589.220000</td>\n",
       "      <td>284844.000000</td>\n",
       "      <td>200.000000</td>\n",
       "      <td>48816.000000</td>\n",
       "    </tr>\n",
       "  </tbody>\n",
       "</table>\n",
       "</div>"
      ],
      "text/plain": [
       "       cor_sales_in_vol  cor_sales_in_val       turnover          value  \\\n",
       "count     200737.000000     200737.000000  200737.000000  200737.000000   \n",
       "mean           6.326886         52.024741   65348.859647      32.754241   \n",
       "std           18.264038        166.254333   57249.908990      16.034234   \n",
       "min            0.060000          0.200000    1693.000000       1.000000   \n",
       "25%            1.000000         10.540000   20115.000000      25.000000   \n",
       "50%            3.000000         21.450000   51500.000000      30.000000   \n",
       "75%            6.000000         45.140000   91146.000000      40.000000   \n",
       "max         1475.000000      13589.220000  284844.000000     200.000000   \n",
       "\n",
       "           VenteConv  \n",
       "count  200737.000000  \n",
       "mean      227.862773  \n",
       "std       828.147639  \n",
       "min         1.000000  \n",
       "25%        40.000000  \n",
       "50%        80.000000  \n",
       "75%       189.000000  \n",
       "max     48816.000000  "
      ]
     },
     "execution_count": 147,
     "metadata": {},
     "output_type": "execute_result"
    }
   ],
   "source": [
    "dframe.describe() # Statistiques descriptives des donnees quantitatives"
   ]
  },
  {
   "cell_type": "code",
   "execution_count": 148,
   "metadata": {
    "colab": {
     "base_uri": "https://localhost:8080/",
     "height": 0
    },
    "id": "LK9PSgXbbjqO",
    "outputId": "b1084e0c-f990-433b-a992-1181c5e1ba53",
    "scrolled": true
   },
   "outputs": [
    {
     "name": "stdout",
     "output_type": "stream",
     "text": [
      "Les dimensions de notre jeu de donnees : (200737, 8)\n",
      "\n",
      "<class 'pandas.core.frame.DataFrame'>\n",
      "RangeIndex: 200737 entries, 0 to 200736\n",
      "Data columns (total 8 columns):\n",
      " #   Column            Non-Null Count   Dtype  \n",
      "---  ------            --------------   -----  \n",
      " 0   Display           200737 non-null  object \n",
      " 1   cor_sales_in_vol  200737 non-null  float64\n",
      " 2   cor_sales_in_val  200737 non-null  float64\n",
      " 3   turnover          200737 non-null  int64  \n",
      " 4   value             200737 non-null  int64  \n",
      " 5   ENSEIGNE          200737 non-null  object \n",
      " 6   VenteConv         200737 non-null  float64\n",
      " 7   Feature           200737 non-null  object \n",
      "dtypes: float64(3), int64(2), object(3)\n",
      "memory usage: 12.3+ MB\n",
      "None\n"
     ]
    }
   ],
   "source": [
    "print(\"Les dimensions de notre jeu de donnees :\" , dframe.shape)\n",
    "print()\n",
    "print(dframe.info())"
   ]
  },
  {
   "cell_type": "code",
   "execution_count": 149,
   "metadata": {
    "colab": {
     "base_uri": "https://localhost:8080/",
     "height": 0
    },
    "id": "ujv0-0CVbjqR",
    "outputId": "222ebb9a-369a-427b-a2bb-209f91947872"
   },
   "outputs": [
    {
     "data": {
      "text/plain": [
       "array(['No_Displ', 'Displ'], dtype=object)"
      ]
     },
     "execution_count": 149,
     "metadata": {},
     "output_type": "execute_result"
    }
   ],
   "source": [
    "dframe.Display.unique() # Les différentes modalités de la variable dependante."
   ]
  },
  {
   "cell_type": "code",
   "execution_count": 150,
   "metadata": {
    "colab": {
     "base_uri": "https://localhost:8080/",
     "height": 0
    },
    "id": "EbJw3yyKbjqT",
    "outputId": "d15fbd0a-f0f0-4745-e9c2-942f1c6da364"
   },
   "outputs": [
    {
     "data": {
      "text/plain": [
       "No_Displ    93.632464\n",
       "Displ        6.367536\n",
       "Name: Display, dtype: float64"
      ]
     },
     "execution_count": 150,
     "metadata": {},
     "output_type": "execute_result"
    }
   ],
   "source": [
    "dframe.Display.value_counts()/200737*100 # La distribution des modalités de la variable dépendante Display."
   ]
  },
  {
   "cell_type": "code",
   "execution_count": 151,
   "metadata": {
    "colab": {
     "base_uri": "https://localhost:8080/",
     "height": 0
    },
    "id": "SW_5iWuWbjqU",
    "outputId": "93d3fb36-3bfd-4e24-ae0b-cb391ef6d038"
   },
   "outputs": [
    {
     "data": {
      "text/plain": [
       "array(['MONOPRIX', 'PRISUNIC', 'SIMPLY MARKET', 'FRANPRIX',\n",
       "       'CARREFOUR MARKET', 'AUCHAN', 'CARREFOUR', 'LECLERC',\n",
       "       'INTERMARCHE', 'CASINO', 'SHOPI', 'CORA', 'GEANT', 'MATCH',\n",
       "       'SUPER U', 'ECOMARCHE', 'OTHERS', 'MARCHE U', 'HYPER U'],\n",
       "      dtype=object)"
      ]
     },
     "execution_count": 151,
     "metadata": {},
     "output_type": "execute_result"
    }
   ],
   "source": [
    "dframe.ENSEIGNE.unique() # Les modalites de la variable ENSEIGNE."
   ]
  },
  {
   "cell_type": "code",
   "execution_count": 152,
   "metadata": {
    "id": "hC1SWVVzbjqV"
   },
   "outputs": [],
   "source": [
    "# Affiche les variables quantitatives du Dataset\n",
    "numerics_val_ind = [i for i in range(len(list(dframe.dtypes))) if str(list(dframe.dtypes)[i]) in ['float64', 'int64']]\n",
    "numerics_val = []\n",
    "for elt in numerics_val_ind :\n",
    "    numerics_val.append(dframe.columns[elt])"
   ]
  },
  {
   "cell_type": "code",
   "execution_count": 153,
   "metadata": {
    "colab": {
     "base_uri": "https://localhost:8080/",
     "height": 0
    },
    "id": "1TRGoDGlbjqW",
    "outputId": "1837d8ee-adf5-4d7f-dbe6-7052583171ec"
   },
   "outputs": [
    {
     "data": {
      "text/plain": [
       "['cor_sales_in_vol', 'cor_sales_in_val', 'turnover', 'value', 'VenteConv']"
      ]
     },
     "execution_count": 153,
     "metadata": {},
     "output_type": "execute_result"
    }
   ],
   "source": [
    "numerics_val"
   ]
  },
  {
   "cell_type": "code",
   "execution_count": 154,
   "metadata": {},
   "outputs": [
    {
     "name": "stdout",
     "output_type": "stream",
     "text": [
      "The p-value approach to hypothesis testing in the decision rule\n",
      "chisquare-score is: 1588.1488447135125  and p value is: 0.0\n",
      "Null Hypothesis is rejected.\n"
     ]
    }
   ],
   "source": [
    "\n",
    "cat_var = [e for e in dframe.columns if e not in numerics_val]\n",
    "# Creation de l'echantillion du sondage\n",
    "df_cat = dframe[cat_var]\n",
    "\n",
    "data_crosstab = pd.crosstab(dframe['Display'],\n",
    "                            dframe['ENSEIGNE'],\n",
    "                           margins=True, margins_name=\"Total\")\n",
    "# significance level\n",
    "alpha = 0.05\n",
    "\n",
    "# Calcualtion of Chisquare test statistics\n",
    "chi_square = 0\n",
    "rows = dframe['Display'].unique()\n",
    "columns = dframe[\"ENSEIGNE\"].unique()\n",
    "for i in columns:\n",
    "    for j in rows:\n",
    "        O = data_crosstab[i][j]\n",
    "        E = data_crosstab[i]['Total'] * data_crosstab['Total'][j] / data_crosstab['Total']['Total']\n",
    "        chi_square += (O-E)**2/E\n",
    "\n",
    "# The p-value approach\n",
    "print(\"The p-value approach to hypothesis testing in the decision rule\")\n",
    "p_value = 1 - stats.norm.cdf(chi_square, (len(rows)-1)*(len(columns)-1))\n",
    "conclusion = \"Failed to reject the null hypothesis.\"\n",
    "if p_value <= alpha:\n",
    "    conclusion = \"Null Hypothesis is rejected.\"\n",
    "        \n",
    "print(\"chisquare-score is:\", chi_square, \" and p value is:\", p_value)\n",
    "print(conclusion)\n",
    "    "
   ]
  },
  {
   "cell_type": "code",
   "execution_count": 155,
   "metadata": {},
   "outputs": [
    {
     "name": "stdout",
     "output_type": "stream",
     "text": [
      "The p-value approach to hypothesis testing in the decision rule\n",
      "chisquare-score is: 40744.318290735806  and p value is: 0.0\n",
      "Null Hypothesis is rejected.\n"
     ]
    }
   ],
   "source": [
    "data_crosstab = pd.crosstab(dframe['Display'],\n",
    "                            dframe['Feature'],\n",
    "                           margins=True, margins_name=\"Total\")\n",
    "# significance level\n",
    "alpha = 0.05\n",
    "\n",
    "# Calcualtion of Chisquare test statistics\n",
    "chi_square = 0\n",
    "rows = dframe['Display'].unique()\n",
    "columns = dframe[\"Feature\"].unique()\n",
    "for i in columns:\n",
    "    for j in rows:\n",
    "        O = data_crosstab[i][j]\n",
    "        E = data_crosstab[i]['Total'] * data_crosstab['Total'][j] / data_crosstab['Total']['Total']\n",
    "        chi_square += (O-E)**2/E\n",
    "\n",
    "# The p-value approach\n",
    "print(\"The p-value approach to hypothesis testing in the decision rule\")\n",
    "p_value = 1 - stats.norm.cdf(chi_square, (len(rows)-1)*(len(columns)-1))\n",
    "conclusion = \"Failed to reject the null hypothesis.\"\n",
    "if p_value <= alpha:\n",
    "    conclusion = \"Null Hypothesis is rejected.\"\n",
    "        \n",
    "print(\"chisquare-score is:\", chi_square, \" and p value is:\", p_value)\n",
    "print(conclusion)"
   ]
  },
  {
   "cell_type": "code",
   "execution_count": 156,
   "metadata": {},
   "outputs": [
    {
     "name": "stdout",
     "output_type": "stream",
     "text": [
      "The p-value approach to hypothesis testing in the decision rule\n",
      "chisquare-score is: 1915.3405052921305  and p value is: 0.0\n",
      "Null Hypothesis is rejected.\n"
     ]
    }
   ],
   "source": [
    "data_crosstab = pd.crosstab(dframe['Feature'],\n",
    "                            dframe['ENSEIGNE'],\n",
    "                           margins=True, margins_name=\"Total\")\n",
    "# significance level\n",
    "alpha = 0.05\n",
    "\n",
    "# Calcualtion of Chisquare test statistics\n",
    "chi_square = 0\n",
    "rows = dframe['Feature'].unique()\n",
    "columns = dframe[\"ENSEIGNE\"].unique()\n",
    "for i in columns:\n",
    "    for j in rows:\n",
    "        O = data_crosstab[i][j]\n",
    "        E = data_crosstab[i]['Total'] * data_crosstab['Total'][j] / data_crosstab['Total']['Total']\n",
    "        chi_square += (O-E)**2/E\n",
    "\n",
    "# The p-value approach\n",
    "print(\"The p-value approach to hypothesis testing in the decision rule\")\n",
    "p_value = 1 - stats.norm.cdf(chi_square, (len(rows)-1)*(len(columns)-1))\n",
    "conclusion = \"Failed to reject the null hypothesis.\"\n",
    "if p_value <= alpha:\n",
    "    conclusion = \"Null Hypothesis is rejected.\"\n",
    "        \n",
    "print(\"chisquare-score is:\", chi_square, \" and p value is:\", p_value)\n",
    "print(conclusion)"
   ]
  },
  {
   "cell_type": "markdown",
   "metadata": {},
   "source": [
    "Conclusion : Toutes les variables qualitatives sont independantes entre elles."
   ]
  },
  {
   "cell_type": "markdown",
   "metadata": {
    "id": "zJvGgbUcr7bW"
   },
   "source": [
    "Premiere étape de prétraitement des variables catégorielles de notre jeu de données. On transforme leurs modalites en colonne contenant des 1 en cas d occurence de la modalite, 0 sinon."
   ]
  },
  {
   "cell_type": "code",
   "execution_count": 157,
   "metadata": {
    "id": "ipvuyVdTbjqX"
   },
   "outputs": [],
   "source": [
    "BinLabel = LabelEncoder() # Transforme une variable catégorielle a deux modalités en variable binaire (0 et 1)\n",
    "oneHot = OneHotEncoder() # Transforme chaque modalité d'une variable catégorielle en une colonne (1 signifie occurence de modalité, 0 sinon)\n",
    "dframe.Display = BinLabel.fit_transform(dframe.Display) \n",
    "dframe.Feature = BinLabel.fit_transform(dframe.Feature)\n",
    "tmpe = oneHot.fit(dframe.ENSEIGNE.to_numpy().reshape(-1, 1))\n",
    "tmp = tmpe.transform(dframe.ENSEIGNE.to_numpy().reshape(-1, 1))\n",
    "tmp = pd.DataFrame(tmp.toarray(), columns = sorted(list(dframe.ENSEIGNE.unique())))"
   ]
  },
  {
   "cell_type": "code",
   "execution_count": 158,
   "metadata": {
    "id": "dCxTpjCAbjqZ"
   },
   "outputs": [],
   "source": [
    "dframe = pd.concat([dframe, tmp], axis = 1).drop([\"ENSEIGNE\"], axis = 1) # On supprime la colonne ENSEIGNE originale aprés traitement"
   ]
  },
  {
   "cell_type": "code",
   "execution_count": 159,
   "metadata": {
    "id": "sd-8Gf3Rbjqa"
   },
   "outputs": [],
   "source": [
    "X_train, X_test, y_train, y_test = train_test_split(dframe.iloc[:,1:], dframe.iloc[:,0], test_size=0.3) # On divise le jeu de données en données d'entraiement et de test"
   ]
  },
  {
   "cell_type": "code",
   "execution_count": 161,
   "metadata": {
    "colab": {
     "base_uri": "https://localhost:8080/",
     "height": 878
    },
    "id": "Y92xNg9_bjqa",
    "outputId": "639ac171-a3f5-40d0-c943-b1360f34adfc"
   },
   "outputs": [
    {
     "data": {
      "image/png": "[encoded data removed]",
      "text/plain": [
       "<Figure size 1152x432 with 2 Axes>"
      ]
     },
     "metadata": {
      "needs_background": "light"
     },
     "output_type": "display_data"
    }
   ],
   "source": [
    "plt.figure(figsize=(16, 6))\n",
    "# Matrice de correlation triangulaire des variables independantes quantitatives\n",
    "mask = np.triu(np.ones_like(dframe[numerics_val].corr(), dtype=np.bool))\n",
    "heatmap = sns.heatmap(dframe[numerics_val].corr(), mask=mask, vmin=-1, vmax=1, annot=True, cmap='BrBG')\n",
    "heatmap.set_title('Triangle Correlation Heatmap', fontdict={'fontsize':18}, pad=16);"
   ]
  },
  {
   "cell_type": "markdown",
   "metadata": {
    "id": "AYPYORNAt8Wa"
   },
   "source": [
    "Puisqu'on a remarqué une forte correlation entre la variable VenteConv et les variables \"cor_sales_in_vol\" et \"value\"  : **VenteConv** = *cor_sales_in_vol* * *value*. Donc, on calcule le VIF pour être certain  qu'il y'a colinearité."
   ]
  },
  {
   "cell_type": "code",
   "execution_count": 162,
   "metadata": {},
   "outputs": [
    {
     "data": {
      "text/html": [
       "<div>\n",
       "<style scoped>\n",
       "    .dataframe tbody tr th:only-of-type {\n",
       "        vertical-align: middle;\n",
       "    }\n",
       "\n",
       "    .dataframe tbody tr th {\n",
       "        vertical-align: top;\n",
       "    }\n",
       "\n",
       "    .dataframe thead th {\n",
       "        text-align: right;\n",
       "    }\n",
       "</style>\n",
       "<table border=\"1\" class=\"dataframe\">\n",
       "  <thead>\n",
       "    <tr style=\"text-align: right;\">\n",
       "      <th></th>\n",
       "      <th>VIF</th>\n",
       "      <th>Features</th>\n",
       "    </tr>\n",
       "  </thead>\n",
       "  <tbody>\n",
       "    <tr>\n",
       "      <th>5</th>\n",
       "      <td>10.447625</td>\n",
       "      <td>VenteConv</td>\n",
       "    </tr>\n",
       "  </tbody>\n",
       "</table>\n",
       "</div>"
      ],
      "text/plain": [
       "         VIF   Features\n",
       "5  10.447625  VenteConv"
      ]
     },
     "execution_count": 162,
     "metadata": {},
     "output_type": "execute_result"
    }
   ],
   "source": [
    "vif = pd.DataFrame()\n",
    "for col in numerics_val :\n",
    "     dframe[col] = dframe[col].astype(np.float64)\n",
    "df_with_cte = add_constant(dframe[numerics_val])\n",
    "vif[\"VIF\"] = [variance_inflation_factor(df_with_cte.values, i) for i in range(df_with_cte.shape[1])]\n",
    "vif[\"Features\"] = df_with_cte.columns\n",
    "\n",
    "vif[vif[\"VIF\"] > 10]"
   ]
  },
  {
   "cell_type": "markdown",
   "metadata": {
    "id": "2WarUsZXfH-O"
   },
   "source": [
    "On cacule le facteur d'inflation de variance VIF, on remarque que la variable VenteConv a un VIF de 10 ce qui nous pousse a éliminer pour ameliorer le modele."
   ]
  },
  {
   "cell_type": "code",
   "execution_count": 163,
   "metadata": {
    "id": "BB7axwwEf6J7"
   },
   "outputs": [],
   "source": [
    "X_train.drop([\"VenteConv\"], inplace = True, axis = 1)\n",
    "X_test.drop([\"VenteConv\"], inplace = True, axis = 1)"
   ]
  },
  {
   "cell_type": "code",
   "execution_count": 164,
   "metadata": {
    "colab": {
     "base_uri": "https://localhost:8080/",
     "height": 291
    },
    "id": "QCNLsXj6jcK0",
    "outputId": "2cd62100-54f6-46ac-c3c7-5ee469306bf7"
   },
   "outputs": [
    {
     "data": {
      "text/html": [
       "<div>\n",
       "<style scoped>\n",
       "    .dataframe tbody tr th:only-of-type {\n",
       "        vertical-align: middle;\n",
       "    }\n",
       "\n",
       "    .dataframe tbody tr th {\n",
       "        vertical-align: top;\n",
       "    }\n",
       "\n",
       "    .dataframe thead th {\n",
       "        text-align: right;\n",
       "    }\n",
       "</style>\n",
       "<table border=\"1\" class=\"dataframe\">\n",
       "  <thead>\n",
       "    <tr style=\"text-align: right;\">\n",
       "      <th></th>\n",
       "      <th>cor_sales_in_vol</th>\n",
       "      <th>cor_sales_in_val</th>\n",
       "      <th>turnover</th>\n",
       "      <th>value</th>\n",
       "    </tr>\n",
       "  </thead>\n",
       "  <tbody>\n",
       "    <tr>\n",
       "      <th>count</th>\n",
       "      <td>140515.000000</td>\n",
       "      <td>140515.000000</td>\n",
       "      <td>140515.000000</td>\n",
       "      <td>140515.000000</td>\n",
       "    </tr>\n",
       "    <tr>\n",
       "      <th>mean</th>\n",
       "      <td>6.275063</td>\n",
       "      <td>51.325782</td>\n",
       "      <td>65300.403857</td>\n",
       "      <td>32.736171</td>\n",
       "    </tr>\n",
       "    <tr>\n",
       "      <th>std</th>\n",
       "      <td>17.819930</td>\n",
       "      <td>161.141343</td>\n",
       "      <td>57154.723781</td>\n",
       "      <td>15.952870</td>\n",
       "    </tr>\n",
       "    <tr>\n",
       "      <th>min</th>\n",
       "      <td>0.060000</td>\n",
       "      <td>0.200000</td>\n",
       "      <td>1693.000000</td>\n",
       "      <td>1.000000</td>\n",
       "    </tr>\n",
       "    <tr>\n",
       "      <th>25%</th>\n",
       "      <td>1.000000</td>\n",
       "      <td>10.520000</td>\n",
       "      <td>20115.000000</td>\n",
       "      <td>25.000000</td>\n",
       "    </tr>\n",
       "    <tr>\n",
       "      <th>50%</th>\n",
       "      <td>3.000000</td>\n",
       "      <td>21.450000</td>\n",
       "      <td>51500.000000</td>\n",
       "      <td>30.000000</td>\n",
       "    </tr>\n",
       "    <tr>\n",
       "      <th>75%</th>\n",
       "      <td>6.000000</td>\n",
       "      <td>45.080000</td>\n",
       "      <td>91146.000000</td>\n",
       "      <td>40.000000</td>\n",
       "    </tr>\n",
       "    <tr>\n",
       "      <th>max</th>\n",
       "      <td>1475.000000</td>\n",
       "      <td>13589.220000</td>\n",
       "      <td>284844.000000</td>\n",
       "      <td>198.000000</td>\n",
       "    </tr>\n",
       "  </tbody>\n",
       "</table>\n",
       "</div>"
      ],
      "text/plain": [
       "       cor_sales_in_vol  cor_sales_in_val       turnover          value\n",
       "count     140515.000000     140515.000000  140515.000000  140515.000000\n",
       "mean           6.275063         51.325782   65300.403857      32.736171\n",
       "std           17.819930        161.141343   57154.723781      15.952870\n",
       "min            0.060000          0.200000    1693.000000       1.000000\n",
       "25%            1.000000         10.520000   20115.000000      25.000000\n",
       "50%            3.000000         21.450000   51500.000000      30.000000\n",
       "75%            6.000000         45.080000   91146.000000      40.000000\n",
       "max         1475.000000      13589.220000  284844.000000     198.000000"
      ]
     },
     "execution_count": 164,
     "metadata": {},
     "output_type": "execute_result"
    }
   ],
   "source": [
    "numerics_prim = deepcopy(numerics_val)\n",
    "numerics_prim.remove('VenteConv')\n",
    "X_train[numerics_prim].describe() # Données statistiques générales"
   ]
  },
  {
   "cell_type": "code",
   "execution_count": 165,
   "metadata": {
    "id": "VMelE0UqNocA"
   },
   "outputs": [],
   "source": [
    "X_train.reset_index(inplace = True) # On réinitialise l'indice pour que le StandardScaler fonctionne\n",
    "X_test.reset_index(inplace = True)  # On réinitialise l'indice pour que le StandardScaler fonctionne"
   ]
  },
  {
   "cell_type": "code",
   "execution_count": 166,
   "metadata": {
    "id": "pLPYH2kBbjqb"
   },
   "outputs": [],
   "source": [
    "std = StandardScaler().fit(X_train[numerics_prim])\n",
    "X_train[numerics_prim] = pd.DataFrame(std.transform(X_train[numerics_prim]))\n",
    "X_test[numerics_prim] = pd.DataFrame(std.transform(X_test[numerics_prim]))"
   ]
  },
  {
   "cell_type": "code",
   "execution_count": 167,
   "metadata": {
    "colab": {
     "base_uri": "https://localhost:8080/",
     "height": 0
    },
    "id": "L0BGLyHKxF9E",
    "outputId": "669f382b-f331-4deb-c446-83705f1b4521"
   },
   "outputs": [
    {
     "name": "stdout",
     "output_type": "stream",
     "text": [
      "<class 'pandas.core.frame.DataFrame'>\n",
      "RangeIndex: 140515 entries, 0 to 140514\n",
      "Data columns (total 25 columns):\n",
      " #   Column            Non-Null Count   Dtype  \n",
      "---  ------            --------------   -----  \n",
      " 0   index             140515 non-null  int64  \n",
      " 1   cor_sales_in_vol  140515 non-null  float64\n",
      " 2   cor_sales_in_val  140515 non-null  float64\n",
      " 3   turnover          140515 non-null  float64\n",
      " 4   value             140515 non-null  float64\n",
      " 5   Feature           140515 non-null  int32  \n",
      " 6   AUCHAN            140515 non-null  float64\n",
      " 7   CARREFOUR         140515 non-null  float64\n",
      " 8   CARREFOUR MARKET  140515 non-null  float64\n",
      " 9   CASINO            140515 non-null  float64\n",
      " 10  CORA              140515 non-null  float64\n",
      " 11  ECOMARCHE         140515 non-null  float64\n",
      " 12  FRANPRIX          140515 non-null  float64\n",
      " 13  GEANT             140515 non-null  float64\n",
      " 14  HYPER U           140515 non-null  float64\n",
      " 15  INTERMARCHE       140515 non-null  float64\n",
      " 16  LECLERC           140515 non-null  float64\n",
      " 17  MARCHE U          140515 non-null  float64\n",
      " 18  MATCH             140515 non-null  float64\n",
      " 19  MONOPRIX          140515 non-null  float64\n",
      " 20  OTHERS            140515 non-null  float64\n",
      " 21  PRISUNIC          140515 non-null  float64\n",
      " 22  SHOPI             140515 non-null  float64\n",
      " 23  SIMPLY MARKET     140515 non-null  float64\n",
      " 24  SUPER U           140515 non-null  float64\n",
      "dtypes: float64(23), int32(1), int64(1)\n",
      "memory usage: 26.3 MB\n"
     ]
    }
   ],
   "source": [
    "X_train.info() #Information générales sur les données d'entrainement"
   ]
  },
  {
   "cell_type": "code",
   "execution_count": 168,
   "metadata": {
    "colab": {
     "base_uri": "https://localhost:8080/",
     "height": 0
    },
    "id": "9Os_5xbYvkou",
    "outputId": "e5a1b7f8-6039-4fbc-eb75-77dbf1c2d597"
   },
   "outputs": [
    {
     "name": "stdout",
     "output_type": "stream",
     "text": [
      "<class 'pandas.core.frame.DataFrame'>\n",
      "RangeIndex: 60222 entries, 0 to 60221\n",
      "Data columns (total 25 columns):\n",
      " #   Column            Non-Null Count  Dtype  \n",
      "---  ------            --------------  -----  \n",
      " 0   index             60222 non-null  int64  \n",
      " 1   cor_sales_in_vol  60222 non-null  float64\n",
      " 2   cor_sales_in_val  60222 non-null  float64\n",
      " 3   turnover          60222 non-null  float64\n",
      " 4   value             60222 non-null  float64\n",
      " 5   Feature           60222 non-null  int32  \n",
      " 6   AUCHAN            60222 non-null  float64\n",
      " 7   CARREFOUR         60222 non-null  float64\n",
      " 8   CARREFOUR MARKET  60222 non-null  float64\n",
      " 9   CASINO            60222 non-null  float64\n",
      " 10  CORA              60222 non-null  float64\n",
      " 11  ECOMARCHE         60222 non-null  float64\n",
      " 12  FRANPRIX          60222 non-null  float64\n",
      " 13  GEANT             60222 non-null  float64\n",
      " 14  HYPER U           60222 non-null  float64\n",
      " 15  INTERMARCHE       60222 non-null  float64\n",
      " 16  LECLERC           60222 non-null  float64\n",
      " 17  MARCHE U          60222 non-null  float64\n",
      " 18  MATCH             60222 non-null  float64\n",
      " 19  MONOPRIX          60222 non-null  float64\n",
      " 20  OTHERS            60222 non-null  float64\n",
      " 21  PRISUNIC          60222 non-null  float64\n",
      " 22  SHOPI             60222 non-null  float64\n",
      " 23  SIMPLY MARKET     60222 non-null  float64\n",
      " 24  SUPER U           60222 non-null  float64\n",
      "dtypes: float64(23), int32(1), int64(1)\n",
      "memory usage: 11.3 MB\n"
     ]
    }
   ],
   "source": [
    "X_test.info()"
   ]
  },
  {
   "cell_type": "code",
   "execution_count": 169,
   "metadata": {
    "colab": {
     "base_uri": "https://localhost:8080/",
     "height": 281
    },
    "id": "EcbQIg59z9J2",
    "outputId": "768c2390-8106-41f6-e9a8-02512a5db2dd"
   },
   "outputs": [
    {
     "data": {
      "text/html": [
       "<div>\n",
       "<style scoped>\n",
       "    .dataframe tbody tr th:only-of-type {\n",
       "        vertical-align: middle;\n",
       "    }\n",
       "\n",
       "    .dataframe tbody tr th {\n",
       "        vertical-align: top;\n",
       "    }\n",
       "\n",
       "    .dataframe thead th {\n",
       "        text-align: right;\n",
       "    }\n",
       "</style>\n",
       "<table border=\"1\" class=\"dataframe\">\n",
       "  <thead>\n",
       "    <tr style=\"text-align: right;\">\n",
       "      <th></th>\n",
       "      <th>index</th>\n",
       "      <th>cor_sales_in_vol</th>\n",
       "      <th>cor_sales_in_val</th>\n",
       "      <th>turnover</th>\n",
       "      <th>value</th>\n",
       "      <th>Feature</th>\n",
       "      <th>AUCHAN</th>\n",
       "      <th>CARREFOUR</th>\n",
       "      <th>CARREFOUR MARKET</th>\n",
       "      <th>CASINO</th>\n",
       "      <th>...</th>\n",
       "      <th>INTERMARCHE</th>\n",
       "      <th>LECLERC</th>\n",
       "      <th>MARCHE U</th>\n",
       "      <th>MATCH</th>\n",
       "      <th>MONOPRIX</th>\n",
       "      <th>OTHERS</th>\n",
       "      <th>PRISUNIC</th>\n",
       "      <th>SHOPI</th>\n",
       "      <th>SIMPLY MARKET</th>\n",
       "      <th>SUPER U</th>\n",
       "    </tr>\n",
       "  </thead>\n",
       "  <tbody>\n",
       "    <tr>\n",
       "      <th>0</th>\n",
       "      <td>127174</td>\n",
       "      <td>-0.239904</td>\n",
       "      <td>-0.230890</td>\n",
       "      <td>-0.479847</td>\n",
       "      <td>-0.484941</td>\n",
       "      <td>1</td>\n",
       "      <td>0.0</td>\n",
       "      <td>0.0</td>\n",
       "      <td>0.0</td>\n",
       "      <td>0.0</td>\n",
       "      <td>...</td>\n",
       "      <td>0.0</td>\n",
       "      <td>1.0</td>\n",
       "      <td>0.0</td>\n",
       "      <td>0.0</td>\n",
       "      <td>0.0</td>\n",
       "      <td>0.0</td>\n",
       "      <td>0.0</td>\n",
       "      <td>0.0</td>\n",
       "      <td>0.0</td>\n",
       "      <td>0.0</td>\n",
       "    </tr>\n",
       "    <tr>\n",
       "      <th>1</th>\n",
       "      <td>63507</td>\n",
       "      <td>-0.239904</td>\n",
       "      <td>-0.261546</td>\n",
       "      <td>-0.757742</td>\n",
       "      <td>-1.299844</td>\n",
       "      <td>1</td>\n",
       "      <td>0.0</td>\n",
       "      <td>0.0</td>\n",
       "      <td>0.0</td>\n",
       "      <td>0.0</td>\n",
       "      <td>...</td>\n",
       "      <td>1.0</td>\n",
       "      <td>0.0</td>\n",
       "      <td>0.0</td>\n",
       "      <td>0.0</td>\n",
       "      <td>0.0</td>\n",
       "      <td>0.0</td>\n",
       "      <td>0.0</td>\n",
       "      <td>0.0</td>\n",
       "      <td>0.0</td>\n",
       "      <td>0.0</td>\n",
       "    </tr>\n",
       "    <tr>\n",
       "      <th>2</th>\n",
       "      <td>103472</td>\n",
       "      <td>-0.239904</td>\n",
       "      <td>-0.207680</td>\n",
       "      <td>2.533406</td>\n",
       "      <td>-0.798365</td>\n",
       "      <td>1</td>\n",
       "      <td>0.0</td>\n",
       "      <td>1.0</td>\n",
       "      <td>0.0</td>\n",
       "      <td>0.0</td>\n",
       "      <td>...</td>\n",
       "      <td>0.0</td>\n",
       "      <td>0.0</td>\n",
       "      <td>0.0</td>\n",
       "      <td>0.0</td>\n",
       "      <td>0.0</td>\n",
       "      <td>0.0</td>\n",
       "      <td>0.0</td>\n",
       "      <td>0.0</td>\n",
       "      <td>0.0</td>\n",
       "      <td>0.0</td>\n",
       "    </tr>\n",
       "    <tr>\n",
       "      <th>3</th>\n",
       "      <td>88347</td>\n",
       "      <td>-0.296021</td>\n",
       "      <td>-0.256520</td>\n",
       "      <td>-0.111267</td>\n",
       "      <td>1.270236</td>\n",
       "      <td>1</td>\n",
       "      <td>0.0</td>\n",
       "      <td>1.0</td>\n",
       "      <td>0.0</td>\n",
       "      <td>0.0</td>\n",
       "      <td>...</td>\n",
       "      <td>0.0</td>\n",
       "      <td>0.0</td>\n",
       "      <td>0.0</td>\n",
       "      <td>0.0</td>\n",
       "      <td>0.0</td>\n",
       "      <td>0.0</td>\n",
       "      <td>0.0</td>\n",
       "      <td>0.0</td>\n",
       "      <td>0.0</td>\n",
       "      <td>0.0</td>\n",
       "    </tr>\n",
       "    <tr>\n",
       "      <th>4</th>\n",
       "      <td>92788</td>\n",
       "      <td>-0.239904</td>\n",
       "      <td>-0.237964</td>\n",
       "      <td>-0.880077</td>\n",
       "      <td>-0.484941</td>\n",
       "      <td>1</td>\n",
       "      <td>0.0</td>\n",
       "      <td>0.0</td>\n",
       "      <td>0.0</td>\n",
       "      <td>0.0</td>\n",
       "      <td>...</td>\n",
       "      <td>0.0</td>\n",
       "      <td>0.0</td>\n",
       "      <td>0.0</td>\n",
       "      <td>0.0</td>\n",
       "      <td>0.0</td>\n",
       "      <td>0.0</td>\n",
       "      <td>0.0</td>\n",
       "      <td>0.0</td>\n",
       "      <td>0.0</td>\n",
       "      <td>1.0</td>\n",
       "    </tr>\n",
       "  </tbody>\n",
       "</table>\n",
       "<p>5 rows × 25 columns</p>\n",
       "</div>"
      ],
      "text/plain": [
       "    index  cor_sales_in_vol  cor_sales_in_val  turnover     value  Feature  \\\n",
       "0  127174         -0.239904         -0.230890 -0.479847 -0.484941        1   \n",
       "1   63507         -0.239904         -0.261546 -0.757742 -1.299844        1   \n",
       "2  103472         -0.239904         -0.207680  2.533406 -0.798365        1   \n",
       "3   88347         -0.296021         -0.256520 -0.111267  1.270236        1   \n",
       "4   92788         -0.239904         -0.237964 -0.880077 -0.484941        1   \n",
       "\n",
       "   AUCHAN  CARREFOUR  CARREFOUR MARKET  CASINO  ...  INTERMARCHE  LECLERC  \\\n",
       "0     0.0        0.0               0.0     0.0  ...          0.0      1.0   \n",
       "1     0.0        0.0               0.0     0.0  ...          1.0      0.0   \n",
       "2     0.0        1.0               0.0     0.0  ...          0.0      0.0   \n",
       "3     0.0        1.0               0.0     0.0  ...          0.0      0.0   \n",
       "4     0.0        0.0               0.0     0.0  ...          0.0      0.0   \n",
       "\n",
       "   MARCHE U  MATCH  MONOPRIX  OTHERS  PRISUNIC  SHOPI  SIMPLY MARKET  SUPER U  \n",
       "0       0.0    0.0       0.0     0.0       0.0    0.0            0.0      0.0  \n",
       "1       0.0    0.0       0.0     0.0       0.0    0.0            0.0      0.0  \n",
       "2       0.0    0.0       0.0     0.0       0.0    0.0            0.0      0.0  \n",
       "3       0.0    0.0       0.0     0.0       0.0    0.0            0.0      0.0  \n",
       "4       0.0    0.0       0.0     0.0       0.0    0.0            0.0      1.0  \n",
       "\n",
       "[5 rows x 25 columns]"
      ]
     },
     "execution_count": 169,
     "metadata": {},
     "output_type": "execute_result"
    }
   ],
   "source": [
    "X_train.head()"
   ]
  },
  {
   "cell_type": "code",
   "execution_count": 170,
   "metadata": {
    "id": "sP1EPScftklJ"
   },
   "outputs": [],
   "source": [
    "X_train.drop([\"index\"], axis = 1, inplace = True) # On supprime la colonne d'indice\n",
    "X_test.drop([\"index\"], axis = 1, inplace = True)"
   ]
  },
  {
   "cell_type": "code",
   "execution_count": 118,
   "metadata": {
    "colab": {
     "base_uri": "https://localhost:8080/",
     "height": 0
    },
    "id": "J15Che9qR35v",
    "outputId": "d34868a2-f2bc-480e-b55c-dc0412069304"
   },
   "outputs": [
    {
     "data": {
      "text/plain": [
       "LogisticRegressionCV(class_weight='balanced', cv=10, n_jobs=-1, random_state=42)"
      ]
     },
     "execution_count": 118,
     "metadata": {},
     "output_type": "execute_result"
    }
   ],
   "source": [
    "# Préparation d'un modele de regression logistique utilisant le solveur lbfgs (Limited-memory Broyden–Fletcher–Goldfarb–Shanno)\n",
    "# Pus performant qu'un solveur linéaire\n",
    "log_reg = LogisticRegressionCV(solver=\"lbfgs\", n_jobs=-1, random_state=42, class_weight=\"balanced\", cv = 10) \n",
    "log_reg.fit(X_train, y_train) #Entrainement du modele de regression logistique"
   ]
  },
  {
   "cell_type": "markdown",
   "metadata": {
    "id": "OChBeJKFybb4"
   },
   "source": [
    "Aprés avoir entrainé le modele, on l'évalue  avec les données de test pour obtenir les mesures suivantes :Accuracy, f1_score , Recall, precision."
   ]
  },
  {
   "cell_type": "code",
   "execution_count": 119,
   "metadata": {
    "colab": {
     "base_uri": "https://localhost:8080/",
     "height": 0
    },
    "id": "XIzCsi2XW4SI",
    "outputId": "738498d0-742f-4037-ea33-173a6c9a8016"
   },
   "outputs": [
    {
     "name": "stdout",
     "output_type": "stream",
     "text": [
      "              precision    recall  f1-score   support\n",
      "\n",
      "           0       0.30      0.61      0.40      3848\n",
      "           1       0.97      0.90      0.94     56374\n",
      "\n",
      "    accuracy                           0.88     60222\n",
      "   macro avg       0.63      0.76      0.67     60222\n",
      "weighted avg       0.93      0.88      0.90     60222\n",
      "\n"
     ]
    }
   ],
   "source": [
    "y_log_reg = log_reg.predict(X_test)\n",
    "print(classification_report(y_test, y_log_reg))"
   ]
  },
  {
   "cell_type": "code",
   "execution_count": 120,
   "metadata": {
    "id": "DuWcoMZrsh-3"
   },
   "outputs": [
    {
     "data": {
      "text/plain": [
       "SVC(C=10, class_weight='balanced', random_state=42)"
      ]
     },
     "execution_count": 120,
     "metadata": {},
     "output_type": "execute_result"
    }
   ],
   "source": [
    "svm = SVC(C = 10 ,random_state=42, class_weight=\"balanced\") #Modele de classification SVM : Support Vector Machine\n",
    "svm.fit(X_train, y_train) # On entraine le modele sur les données d'entrainement"
   ]
  },
  {
   "cell_type": "markdown",
   "metadata": {
    "id": "T2ttxxoIzlVr"
   },
   "source": [
    "Aprés avoir entrainé le modele, on l'évalue  avec les données de test pour obtenir les mesures suivantes :Accuracy, f1_score , Recall, precision."
   ]
  },
  {
   "cell_type": "code",
   "execution_count": 123,
   "metadata": {
    "colab": {
     "base_uri": "https://localhost:8080/"
    },
    "id": "5zjmbBy_XWza",
    "outputId": "b7d2f6de-8c86-40f1-e832-cc00b13437ad"
   },
   "outputs": [
    {
     "name": "stdout",
     "output_type": "stream",
     "text": [
      "              precision    recall  f1-score   support\n",
      "\n",
      "           0       0.32      0.67      0.43      3848\n",
      "           1       0.98      0.90      0.94     56374\n",
      "\n",
      "    accuracy                           0.89     60222\n",
      "   macro avg       0.65      0.79      0.68     60222\n",
      "weighted avg       0.93      0.89      0.90     60222\n",
      "\n"
     ]
    }
   ],
   "source": [
    "y_svm = svm.predict(X_test)\n",
    "print(classification_report(y_test, y_svm))"
   ]
  },
  {
   "cell_type": "code",
   "execution_count": 181,
   "metadata": {
    "id": "c1c-OfOklleE"
   },
   "outputs": [],
   "source": [
    " #Modele de classification \"forets aléatoires\" avec 300 arbres de décision et le bootstraping activé\n",
    " rand_forest = RandomForestClassifier(n_estimators=300, min_samples_split=7, bootstrap=True, oob_score=True, n_jobs=-1, class_weight=\"balanced_subsample\")\n",
    " #Entrainement du modele\n",
    " rand_forest.fit(X_train, y_train)\n",
    " y_rand_forest = rand_forest.predict(X_test)"
   ]
  },
  {
   "cell_type": "markdown",
   "metadata": {
    "id": "5S7fJEe-0lbM"
   },
   "source": [
    "##### Aprés avoir entrainé le modele, on l'évalue  avec les données de test pour obtenir les mesures suivantes :Accuracy, f1_score , Recall, precision."
   ]
  },
  {
   "cell_type": "code",
   "execution_count": 182,
   "metadata": {
    "colab": {
     "base_uri": "https://localhost:8080/",
     "height": 0
    },
    "id": "5iJtqkVbA8o6",
    "outputId": "4eedb72e-dd85-4c8c-b835-3fee9e33ce65"
   },
   "outputs": [
    {
     "name": "stdout",
     "output_type": "stream",
     "text": [
      "              precision    recall  f1-score   support\n",
      "\n",
      "           0       0.58      0.63      0.60      3867\n",
      "           1       0.97      0.97      0.97     56355\n",
      "\n",
      "    accuracy                           0.95     60222\n",
      "   macro avg       0.78      0.80      0.79     60222\n",
      "weighted avg       0.95      0.95      0.95     60222\n",
      "\n"
     ]
    }
   ],
   "source": [
    "print(classification_report(y_test, y_rand_forest))"
   ]
  },
  {
   "cell_type": "markdown",
   "metadata": {
    "id": "uuuvtCK10sKT"
   },
   "source": [
    "On identifie les variables contribuant le plus dans la détection des relations entre la variable dépendante et les variables indépendantes."
   ]
  },
  {
   "cell_type": "code",
   "execution_count": 184,
   "metadata": {
    "colab": {
     "base_uri": "https://localhost:8080/",
     "height": 0
    },
    "id": "qy7BlZggKAz6",
    "outputId": "25d67dec-8e31-4d66-ee2d-b2fc553f8cae"
   },
   "outputs": [
    {
     "name": "stdout",
     "output_type": "stream",
     "text": [
      "Elapsed time to compute the importances: 0.287 seconds\n"
     ]
    }
   ],
   "source": [
    "start_time = time.time()\n",
    "importances = rand_forest.feature_importances_\n",
    "std = np.std([tree.feature_importances_ for tree in rand_forest.estimators_], axis=0)\n",
    "elapsed_time = time.time() - start_time\n",
    "\n",
    "print(f\"Elapsed time to compute the importances: {elapsed_time:.3f} seconds\")"
   ]
  },
  {
   "cell_type": "code",
   "execution_count": 185,
   "metadata": {
    "colab": {
     "base_uri": "https://localhost:8080/",
     "height": 369
    },
    "id": "nZaooTMCKLBM",
    "outputId": "440434bd-6fc6-44c5-c23f-a8a2f3b34240"
   },
   "outputs": [
    {
     "data": {
      "image/png": "[encoded data removed]",
      "text/plain": [
       "<Figure size 1080x360 with 1 Axes>"
      ]
     },
     "metadata": {
      "needs_background": "light"
     },
     "output_type": "display_data"
    }
   ],
   "source": [
    "import pandas as pd\n",
    "\n",
    "forest_importances = pd.Series(importances, index=X_train.columns)\n",
    "\n",
    "fig, ax = plt.subplots(figsize = (15,5))\n",
    "forest_importances.plot.bar(yerr=std, ax=ax)\n",
    "ax.set_title(\"Feature importances using MDI\")\n",
    "ax.set_ylabel(\"Mean decrease in impurity\")\n",
    "fig.tight_layout()"
   ]
  },
  {
   "cell_type": "markdown",
   "metadata": {
    "id": "QeQsC6H01Y0a"
   },
   "source": [
    "On remarque que les variables numériques sont les plus significatives."
   ]
  },
  {
   "cell_type": "code",
   "execution_count": 188,
   "metadata": {
    "id": "X114Qv7-B3aN"
   },
   "outputs": [
    {
     "name": "stdout",
     "output_type": "stream",
     "text": [
      "[20:10:13] WARNING: ..\\src\\learner.cc:1061: Starting in XGBoost 1.3.0, the default evaluation metric used with the objective 'binary:logistic' was changed from 'error' to 'logloss'. Explicitly set eval_metric if you'd like to restore the old behavior.\n"
     ]
    }
   ],
   "source": [
    " # On a choisit XGBoost comme methode d'ensemblement (ensembling method) avec un booster \"gbtree\" puisqu'il donne les meilleurs résultats\n",
    " xgboost = XGBClassifier(n_estimators=500, booster=\"gbtree\", n_jobs=-1, subsample=0.7, random_state=42)\n",
    " xgboost.fit(X_train, y_train)\n",
    " y_xgboost = xgboost.predict(X_test)"
   ]
  },
  {
   "cell_type": "markdown",
   "metadata": {
    "id": "XBzBdkZg2bAF"
   },
   "source": [
    "Aprés avoir entrainé le modele, on l'évalue  avec les données de test pour obtenir les mesures suivantes :Accuracy, f1_score , Recall, precision."
   ]
  },
  {
   "cell_type": "code",
   "execution_count": null,
   "metadata": {
    "colab": {
     "base_uri": "https://localhost:8080/"
    },
    "id": "jIETHFdCHrLL",
    "outputId": "9149a59e-f53c-47a2-fdc4-06cb36e377c3"
   },
   "outputs": [
    {
     "name": "stdout",
     "output_type": "stream",
     "text": [
      "              precision    recall  f1-score   support\n",
      "\n",
      "           0       0.68      0.37      0.48      2491\n",
      "           1       0.96      0.99      0.97     37657\n",
      "\n",
      "    accuracy                           0.95     40148\n",
      "   macro avg       0.82      0.68      0.73     40148\n",
      "weighted avg       0.94      0.95      0.94     40148\n",
      "\n"
     ]
    }
   ],
   "source": [
    "print(classification_report(y_test, y_xgboost))"
   ]
  },
  {
   "cell_type": "markdown",
   "metadata": {},
   "source": [
    "### Optimisation des hyperparametres par optuna"
   ]
  },
  {
   "cell_type": "code",
   "execution_count": 262,
   "metadata": {
    "colab": {
     "base_uri": "https://localhost:8080/"
    },
    "id": "mDLouWzcH5Yb",
    "outputId": "83f1ae6a-d462-44e8-93f2-ffc0b48d4056"
   },
   "outputs": [
    {
     "name": "stderr",
     "output_type": "stream",
     "text": [
      "\u001b[32m[I 2022-02-17 21:29:00,269]\u001b[0m A new study created in memory with name: no-name-1fb2fba6-0d3c-4eba-ad9f-c910bb2d3b4c\u001b[0m\n",
      "C:\\Users\\hamza lagramez\\anaconda3\\lib\\site-packages\\xgboost\\sklearn.py:888: UserWarning: The use of label encoder in XGBClassifier is deprecated and will be removed in a future release. To remove this warning, do the following: 1) Pass option use_label_encoder=False when constructing XGBClassifier object; and 2) Encode your labels (y) as integers starting with 0, i.e. 0, 1, 2, ..., [num_class - 1].\n",
      "  warnings.warn(label_encoder_deprecation_msg, UserWarning)\n"
     ]
    },
    {
     "name": "stdout",
     "output_type": "stream",
     "text": [
      "[21:29:00] WARNING: ..\\src\\learner.cc:1061: Starting in XGBoost 1.3.0, the default evaluation metric used with the objective 'binary:logistic' was changed from 'error' to 'logloss'. Explicitly set eval_metric if you'd like to restore the old behavior.\n"
     ]
    },
    {
     "name": "stderr",
     "output_type": "stream",
     "text": [
      "\u001b[32m[I 2022-02-17 21:41:24,247]\u001b[0m Trial 0 finished with value: 0.23259370289558848 and parameters: {'lambda': 0.0046257147453525735, 'alpha': 0.03469420675057365, 'colsample_bytree': 1.0, 'subsample': 0.7, 'learning_rate': 0.01, 'n_estimators': 3000, 'max_depth': 11, 'min_child_weight': 273}. Best is trial 0 with value: 0.23259370289558848.\u001b[0m\n",
      "C:\\Users\\hamza lagramez\\anaconda3\\lib\\site-packages\\xgboost\\sklearn.py:888: UserWarning: The use of label encoder in XGBClassifier is deprecated and will be removed in a future release. To remove this warning, do the following: 1) Pass option use_label_encoder=False when constructing XGBClassifier object; and 2) Encode your labels (y) as integers starting with 0, i.e. 0, 1, 2, ..., [num_class - 1].\n",
      "  warnings.warn(label_encoder_deprecation_msg, UserWarning)\n"
     ]
    },
    {
     "name": "stdout",
     "output_type": "stream",
     "text": [
      "[21:41:24] WARNING: ..\\src\\learner.cc:1061: Starting in XGBoost 1.3.0, the default evaluation metric used with the objective 'binary:logistic' was changed from 'error' to 'logloss'. Explicitly set eval_metric if you'd like to restore the old behavior.\n"
     ]
    },
    {
     "name": "stderr",
     "output_type": "stream",
     "text": [
      "\u001b[32m[I 2022-02-17 21:41:43,871]\u001b[0m Trial 1 finished with value: 0.23795761215007752 and parameters: {'lambda': 0.001068681271225537, 'alpha': 8.73858193220358, 'colsample_bytree': 0.5, 'subsample': 0.7, 'learning_rate': 0.012, 'n_estimators': 150, 'max_depth': 11, 'min_child_weight': 157}. Best is trial 0 with value: 0.23259370289558848.\u001b[0m\n",
      "C:\\Users\\hamza lagramez\\anaconda3\\lib\\site-packages\\xgboost\\sklearn.py:888: UserWarning: The use of label encoder in XGBClassifier is deprecated and will be removed in a future release. To remove this warning, do the following: 1) Pass option use_label_encoder=False when constructing XGBClassifier object; and 2) Encode your labels (y) as integers starting with 0, i.e. 0, 1, 2, ..., [num_class - 1].\n",
      "  warnings.warn(label_encoder_deprecation_msg, UserWarning)\n"
     ]
    },
    {
     "name": "stdout",
     "output_type": "stream",
     "text": [
      "[21:41:44] WARNING: ..\\src\\learner.cc:1061: Starting in XGBoost 1.3.0, the default evaluation metric used with the objective 'binary:logistic' was changed from 'error' to 'logloss'. Explicitly set eval_metric if you'd like to restore the old behavior.\n"
     ]
    },
    {
     "name": "stderr",
     "output_type": "stream",
     "text": [
      "\u001b[32m[I 2022-02-17 21:42:13,581]\u001b[0m Trial 2 finished with value: 0.23585485269680798 and parameters: {'lambda': 1.1259510249919342, 'alpha': 0.9642004865256837, 'colsample_bytree': 1.0, 'subsample': 1.0, 'learning_rate': 0.014, 'n_estimators': 150, 'max_depth': 13, 'min_child_weight': 174}. Best is trial 0 with value: 0.23259370289558848.\u001b[0m\n",
      "C:\\Users\\hamza lagramez\\anaconda3\\lib\\site-packages\\xgboost\\sklearn.py:888: UserWarning: The use of label encoder in XGBClassifier is deprecated and will be removed in a future release. To remove this warning, do the following: 1) Pass option use_label_encoder=False when constructing XGBClassifier object; and 2) Encode your labels (y) as integers starting with 0, i.e. 0, 1, 2, ..., [num_class - 1].\n",
      "  warnings.warn(label_encoder_deprecation_msg, UserWarning)\n"
     ]
    },
    {
     "name": "stdout",
     "output_type": "stream",
     "text": [
      "[21:42:14] WARNING: ..\\src\\learner.cc:1061: Starting in XGBoost 1.3.0, the default evaluation metric used with the objective 'binary:logistic' was changed from 'error' to 'logloss'. Explicitly set eval_metric if you'd like to restore the old behavior.\n"
     ]
    },
    {
     "name": "stderr",
     "output_type": "stream",
     "text": [
      "\u001b[32m[I 2022-02-17 21:42:21,754]\u001b[0m Trial 3 finished with value: 0.23564354473797838 and parameters: {'lambda': 0.2365999088104135, 'alpha': 5.921742931210382, 'colsample_bytree': 0.6, 'subsample': 1.0, 'learning_rate': 0.01, 'n_estimators': 150, 'max_depth': 4, 'min_child_weight': 9}. Best is trial 0 with value: 0.23259370289558848.\u001b[0m\n",
      "C:\\Users\\hamza lagramez\\anaconda3\\lib\\site-packages\\xgboost\\sklearn.py:888: UserWarning: The use of label encoder in XGBClassifier is deprecated and will be removed in a future release. To remove this warning, do the following: 1) Pass option use_label_encoder=False when constructing XGBClassifier object; and 2) Encode your labels (y) as integers starting with 0, i.e. 0, 1, 2, ..., [num_class - 1].\n",
      "  warnings.warn(label_encoder_deprecation_msg, UserWarning)\n"
     ]
    },
    {
     "name": "stdout",
     "output_type": "stream",
     "text": [
      "[21:42:22] WARNING: ..\\src\\learner.cc:1061: Starting in XGBoost 1.3.0, the default evaluation metric used with the objective 'binary:logistic' was changed from 'error' to 'logloss'. Explicitly set eval_metric if you'd like to restore the old behavior.\n"
     ]
    },
    {
     "name": "stderr",
     "output_type": "stream",
     "text": [
      "\u001b[32m[I 2022-02-17 21:43:31,337]\u001b[0m Trial 4 finished with value: 0.23564354473797838 and parameters: {'lambda': 0.004452741775623389, 'alpha': 1.0572370353319733, 'colsample_bytree': 0.9, 'subsample': 0.6, 'learning_rate': 0.008, 'n_estimators': 300, 'max_depth': 13, 'min_child_weight': 251}. Best is trial 0 with value: 0.23259370289558848.\u001b[0m\n"
     ]
    },
    {
     "name": "stdout",
     "output_type": "stream",
     "text": [
      "Number of finished trials: 5\n",
      "Best trial: {'lambda': 0.0046257147453525735, 'alpha': 0.03469420675057365, 'colsample_bytree': 1.0, 'subsample': 0.7, 'learning_rate': 0.01, 'n_estimators': 3000, 'max_depth': 11, 'min_child_weight': 273}\n",
      "It takes 14.518256219228109 minutes\n"
     ]
    }
   ],
   "source": [
    "# Execute l'optimisation Bayesienne de la bibliotheque Optuna basé sur l'algorithme Tree-structured Parzen Estimator.\n",
    "# L'optimisation Bayesienne permet de trouver les meilleurs hyper-parametres pour le modèle\n",
    "# Plus performant que le GridSearch en terme de temps d'execution\n",
    "start = time.time()\n",
    "# Les differentes combinaisons que nous avons choisis pour optimiser le modele sont inclut dans la fonction ci-dessous\n",
    "# Cette fonction permet de trouver les meilleurs hyper-parametre pour le modèle XGboost Classifier\n",
    "def objective(trial,data=dframe[dframe.columns[1:]],target=dframe.Display):\n",
    "    \n",
    "    train_x, test_x, train_y, test_y = train_test_split(data, target, test_size=0.15,random_state=42)\n",
    "    param = {\n",
    "        'lambda': trial.suggest_loguniform(\n",
    "            'lambda', 1e-3, 10.0\n",
    "        ),\n",
    "        'alpha': trial.suggest_loguniform(\n",
    "            'alpha', 1e-3, 10.0\n",
    "        ),\n",
    "        'colsample_bytree': trial.suggest_categorical(\n",
    "            'colsample_bytree', [0.5,0.6,0.7,0.8,0.9,1.0]\n",
    "        ),\n",
    "        'subsample': trial.suggest_categorical(\n",
    "            'subsample', [0.6,0.7,0.8,1.0]\n",
    "        ),\n",
    "        'learning_rate': trial.suggest_categorical(\n",
    "            'learning_rate', [0.008,0.009,0.01,0.012,0.014,0.016,0.018, 0.02]\n",
    "        ),\n",
    "        'n_estimators': trial.suggest_categorical(\n",
    "            \"n_estimators\", [150, 200, 300, 3000]\n",
    "        ),\n",
    "        'max_depth': trial.suggest_categorical(\n",
    "            'max_depth', [4,5,7,9,11,13,15,17]\n",
    "        ),\n",
    "        'random_state': 42,\n",
    "        'min_child_weight': trial.suggest_int(\n",
    "                'min_child_weight', 1, 300\n",
    "        ),\n",
    "    }\n",
    "    model = XGBClassifier(**param)  \n",
    "\n",
    "    model.fit(train_x,train_y,eval_set=[(test_x,test_y)],early_stopping_rounds=100,verbose=False)\n",
    "\n",
    "    preds = model.predict(test_x)\n",
    "\n",
    "    rmse = mean_squared_error(test_y, preds,squared=False)\n",
    "    return rmse\n",
    "    \n",
    "study = optuna.create_study(direction='minimize')\n",
    "study.optimize(objective, n_trials=5)\n",
    "print('Number of finished trials:', len(study.trials))\n",
    "print('Best trial:', study.best_trial.params)\n",
    "\n",
    "print('It takes %s minutes' % ((time.time() - start)/60))"
   ]
  },
  {
   "cell_type": "code",
   "execution_count": 264,
   "metadata": {},
   "outputs": [],
   "source": [
    "best_params={\n",
    "    'lambda': 0.0046257147453525735,\n",
    "    'alpha': 0.03469420675057365,\n",
    "    'colsample_bytree': 1.0,\n",
    "    'subsample': 0.7,\n",
    "    'learning_rate': 0.01,\n",
    "    'n_estimators': 3000,\n",
    "    'max_depth': 11,\n",
    "    'min_child_weight': 273\n",
    "}"
   ]
  },
  {
   "cell_type": "code",
   "execution_count": 268,
   "metadata": {},
   "outputs": [],
   "source": [
    "y_train.drop('index',axis=1, inplace=True)"
   ]
  },
  {
   "cell_type": "code",
   "execution_count": 263,
   "metadata": {},
   "outputs": [
    {
     "data": {
      "text/html": [
       "<div>\n",
       "<style scoped>\n",
       "    .dataframe tbody tr th:only-of-type {\n",
       "        vertical-align: middle;\n",
       "    }\n",
       "\n",
       "    .dataframe tbody tr th {\n",
       "        vertical-align: top;\n",
       "    }\n",
       "\n",
       "    .dataframe thead th {\n",
       "        text-align: right;\n",
       "    }\n",
       "</style>\n",
       "<table border=\"1\" class=\"dataframe\">\n",
       "  <thead>\n",
       "    <tr style=\"text-align: right;\">\n",
       "      <th></th>\n",
       "      <th>number</th>\n",
       "      <th>value</th>\n",
       "      <th>datetime_start</th>\n",
       "      <th>datetime_complete</th>\n",
       "      <th>duration</th>\n",
       "      <th>params_alpha</th>\n",
       "      <th>params_colsample_bytree</th>\n",
       "      <th>params_lambda</th>\n",
       "      <th>params_learning_rate</th>\n",
       "      <th>params_max_depth</th>\n",
       "      <th>params_min_child_weight</th>\n",
       "      <th>params_n_estimators</th>\n",
       "      <th>params_subsample</th>\n",
       "      <th>state</th>\n",
       "    </tr>\n",
       "  </thead>\n",
       "  <tbody>\n",
       "    <tr>\n",
       "      <th>0</th>\n",
       "      <td>0</td>\n",
       "      <td>0.232594</td>\n",
       "      <td>2022-02-17 21:29:00.272366</td>\n",
       "      <td>2022-02-17 21:41:24.202616</td>\n",
       "      <td>0 days 00:12:23.930250</td>\n",
       "      <td>0.034694</td>\n",
       "      <td>1.0</td>\n",
       "      <td>0.004626</td>\n",
       "      <td>0.010</td>\n",
       "      <td>11</td>\n",
       "      <td>273</td>\n",
       "      <td>3000</td>\n",
       "      <td>0.7</td>\n",
       "      <td>COMPLETE</td>\n",
       "    </tr>\n",
       "    <tr>\n",
       "      <th>1</th>\n",
       "      <td>1</td>\n",
       "      <td>0.237958</td>\n",
       "      <td>2022-02-17 21:41:24.249617</td>\n",
       "      <td>2022-02-17 21:41:43.870843</td>\n",
       "      <td>0 days 00:00:19.621226</td>\n",
       "      <td>8.738582</td>\n",
       "      <td>0.5</td>\n",
       "      <td>0.001069</td>\n",
       "      <td>0.012</td>\n",
       "      <td>11</td>\n",
       "      <td>157</td>\n",
       "      <td>150</td>\n",
       "      <td>0.7</td>\n",
       "      <td>COMPLETE</td>\n",
       "    </tr>\n",
       "    <tr>\n",
       "      <th>2</th>\n",
       "      <td>2</td>\n",
       "      <td>0.235855</td>\n",
       "      <td>2022-02-17 21:41:43.873846</td>\n",
       "      <td>2022-02-17 21:42:13.580778</td>\n",
       "      <td>0 days 00:00:29.706932</td>\n",
       "      <td>0.964200</td>\n",
       "      <td>1.0</td>\n",
       "      <td>1.125951</td>\n",
       "      <td>0.014</td>\n",
       "      <td>13</td>\n",
       "      <td>174</td>\n",
       "      <td>150</td>\n",
       "      <td>1.0</td>\n",
       "      <td>COMPLETE</td>\n",
       "    </tr>\n",
       "    <tr>\n",
       "      <th>3</th>\n",
       "      <td>3</td>\n",
       "      <td>0.235644</td>\n",
       "      <td>2022-02-17 21:42:13.583777</td>\n",
       "      <td>2022-02-17 21:42:21.753057</td>\n",
       "      <td>0 days 00:00:08.169280</td>\n",
       "      <td>5.921743</td>\n",
       "      <td>0.6</td>\n",
       "      <td>0.236600</td>\n",
       "      <td>0.010</td>\n",
       "      <td>4</td>\n",
       "      <td>9</td>\n",
       "      <td>150</td>\n",
       "      <td>1.0</td>\n",
       "      <td>COMPLETE</td>\n",
       "    </tr>\n",
       "    <tr>\n",
       "      <th>4</th>\n",
       "      <td>4</td>\n",
       "      <td>0.235644</td>\n",
       "      <td>2022-02-17 21:42:21.756057</td>\n",
       "      <td>2022-02-17 21:43:31.336718</td>\n",
       "      <td>0 days 00:01:09.580661</td>\n",
       "      <td>1.057237</td>\n",
       "      <td>0.9</td>\n",
       "      <td>0.004453</td>\n",
       "      <td>0.008</td>\n",
       "      <td>13</td>\n",
       "      <td>251</td>\n",
       "      <td>300</td>\n",
       "      <td>0.6</td>\n",
       "      <td>COMPLETE</td>\n",
       "    </tr>\n",
       "  </tbody>\n",
       "</table>\n",
       "</div>"
      ],
      "text/plain": [
       "   number     value             datetime_start          datetime_complete  \\\n",
       "0       0  0.232594 2022-02-17 21:29:00.272366 2022-02-17 21:41:24.202616   \n",
       "1       1  0.237958 2022-02-17 21:41:24.249617 2022-02-17 21:41:43.870843   \n",
       "2       2  0.235855 2022-02-17 21:41:43.873846 2022-02-17 21:42:13.580778   \n",
       "3       3  0.235644 2022-02-17 21:42:13.583777 2022-02-17 21:42:21.753057   \n",
       "4       4  0.235644 2022-02-17 21:42:21.756057 2022-02-17 21:43:31.336718   \n",
       "\n",
       "                duration  params_alpha  params_colsample_bytree  \\\n",
       "0 0 days 00:12:23.930250      0.034694                      1.0   \n",
       "1 0 days 00:00:19.621226      8.738582                      0.5   \n",
       "2 0 days 00:00:29.706932      0.964200                      1.0   \n",
       "3 0 days 00:00:08.169280      5.921743                      0.6   \n",
       "4 0 days 00:01:09.580661      1.057237                      0.9   \n",
       "\n",
       "   params_lambda  params_learning_rate  params_max_depth  \\\n",
       "0       0.004626                 0.010                11   \n",
       "1       0.001069                 0.012                11   \n",
       "2       1.125951                 0.014                13   \n",
       "3       0.236600                 0.010                 4   \n",
       "4       0.004453                 0.008                13   \n",
       "\n",
       "   params_min_child_weight  params_n_estimators  params_subsample     state  \n",
       "0                      273                 3000               0.7  COMPLETE  \n",
       "1                      157                  150               0.7  COMPLETE  \n",
       "2                      174                  150               1.0  COMPLETE  \n",
       "3                        9                  150               1.0  COMPLETE  \n",
       "4                      251                  300               0.6  COMPLETE  "
      ]
     },
     "execution_count": 263,
     "metadata": {},
     "output_type": "execute_result"
    }
   ],
   "source": [
    "study.trials_dataframe().head()"
   ]
  },
  {
   "cell_type": "code",
   "execution_count": 271,
   "metadata": {},
   "outputs": [
    {
     "name": "stderr",
     "output_type": "stream",
     "text": [
      "C:\\Users\\hamza lagramez\\anaconda3\\lib\\site-packages\\xgboost\\sklearn.py:888: UserWarning: The use of label encoder in XGBClassifier is deprecated and will be removed in a future release. To remove this warning, do the following: 1) Pass option use_label_encoder=False when constructing XGBClassifier object; and 2) Encode your labels (y) as integers starting with 0, i.e. 0, 1, 2, ..., [num_class - 1].\n",
      "  warnings.warn(label_encoder_deprecation_msg, UserWarning)\n",
      "C:\\Users\\hamza lagramez\\anaconda3\\lib\\site-packages\\sklearn\\utils\\validation.py:63: DataConversionWarning: A column-vector y was passed when a 1d array was expected. Please change the shape of y to (n_samples, ), for example using ravel().\n",
      "  return f(*args, **kwargs)\n"
     ]
    },
    {
     "name": "stdout",
     "output_type": "stream",
     "text": [
      "[22:10:22] WARNING: ..\\src\\learner.cc:1061: Starting in XGBoost 1.3.0, the default evaluation metric used with the objective 'binary:logistic' was changed from 'error' to 'logloss'. Explicitly set eval_metric if you'd like to restore the old behavior.\n"
     ]
    },
    {
     "data": {
      "text/plain": [
       "XGBClassifier(alpha=0.03469420675057365, base_score=0.5, booster='gbtree',\n",
       "              colsample_bylevel=1, colsample_bynode=1, colsample_bytree=1.0,\n",
       "              gamma=0, gpu_id=-1, importance_type='gain',\n",
       "              interaction_constraints='', lambda=0.0046257147453525735,\n",
       "              learning_rate=0.01, max_delta_step=0, max_depth=11,\n",
       "              min_child_weight=273, missing=nan, monotone_constraints='()',\n",
       "              n_estimators=3000, n_jobs=-1, num_parallel_tree=1,\n",
       "              random_state=42, reg_alpha=0.034694206, reg_lambda=0.00462571485,\n",
       "              scale_pos_weight=1, subsample=0.7, tree_method='exact',\n",
       "              validate_parameters=1, verbosity=None)"
      ]
     },
     "execution_count": 271,
     "metadata": {},
     "output_type": "execute_result"
    }
   ],
   "source": [
    "xgb_best = XGBClassifier(**best_params, booster=\"gbtree\", n_jobs=-1, random_state=42,)\n",
    "xgb_best.fit(X_train, y_train)"
   ]
  },
  {
   "cell_type": "code",
   "execution_count": 272,
   "metadata": {},
   "outputs": [
    {
     "name": "stdout",
     "output_type": "stream",
     "text": [
      "              precision    recall  f1-score   support\n",
      "\n",
      "           0       0.66      0.35      0.46      3867\n",
      "           1       0.96      0.99      0.97     56355\n",
      "\n",
      "    accuracy                           0.95     60222\n",
      "   macro avg       0.81      0.67      0.71     60222\n",
      "weighted avg       0.94      0.95      0.94     60222\n",
      "\n"
     ]
    }
   ],
   "source": [
    "y_xgb_best = xgb_best.predict(X_test)\n",
    "print(classification_report(y_test, y_xgb_best))"
   ]
  },
  {
   "cell_type": "markdown",
   "metadata": {
    "id": "KrfTta1G3sLO"
   },
   "source": [
    "Aprés avoir entrainé le modele, on l'évalue  avec les données de test pour obtenir les mesures suivantes : Accuracy, f1_score , Recall, precision."
   ]
  },
  {
   "cell_type": "markdown",
   "metadata": {},
   "source": [
    "### Neural Networks"
   ]
  },
  {
   "cell_type": "code",
   "execution_count": 225,
   "metadata": {
    "id": "25tMs2NieG-S"
   },
   "outputs": [],
   "source": [
    "...\n",
    "# Déclaration du modele Keras et de son architecture\n",
    "model = Sequential()\n",
    "model.add(Dense(256, input_dim=24, activation='relu'))\n",
    "model.add(Dense(64, activation='relu'))\n",
    "model.add(Dense(16, activation='relu'))\n",
    "model.add(Dense(1, activation='sigmoid'))"
   ]
  },
  {
   "cell_type": "code",
   "execution_count": 226,
   "metadata": {
    "id": "OSra6-z_ee9A"
   },
   "outputs": [],
   "source": [
    " #Compilation du modele avec binary_crossentropy comme fonction de cout et adagrad comme optimisateur.\n",
    "model.compile(loss='binary_crossentropy', optimizer='RMSprop', metrics=['accuracy'])"
   ]
  },
  {
   "cell_type": "code",
   "execution_count": 227,
   "metadata": {
    "id": "iebut3KcesUD",
    "scrolled": true
   },
   "outputs": [
    {
     "name": "stdout",
     "output_type": "stream",
     "text": [
      "Epoch 1/150\n",
      "703/703 [==============================] - 4s 4ms/step - loss: 0.4332 - accuracy: 0.9366\n",
      "Epoch 2/150\n",
      "703/703 [==============================] - 4s 5ms/step - loss: 0.2072 - accuracy: 0.9371\n",
      "Epoch 3/150\n",
      "703/703 [==============================] - 4s 6ms/step - loss: 0.1872 - accuracy: 0.9393\n",
      "Epoch 4/150\n",
      "703/703 [==============================] - 4s 6ms/step - loss: 0.1838 - accuracy: 0.9402\n",
      "Epoch 5/150\n",
      "703/703 [==============================] - 5s 7ms/step - loss: 0.1802 - accuracy: 0.9411\n",
      "Epoch 6/150\n",
      "703/703 [==============================] - 5s 7ms/step - loss: 0.1808 - accuracy: 0.9411\n",
      "Epoch 7/150\n",
      "703/703 [==============================] - 5s 7ms/step - loss: 0.1786 - accuracy: 0.9415\n",
      "Epoch 8/150\n",
      "703/703 [==============================] - 5s 7ms/step - loss: 0.1788 - accuracy: 0.9415\n",
      "Epoch 9/150\n",
      "703/703 [==============================] - 5s 7ms/step - loss: 0.1782 - accuracy: 0.9413\n",
      "Epoch 10/150\n",
      "703/703 [==============================] - 4s 6ms/step - loss: 0.1768 - accuracy: 0.9421\n",
      "Epoch 11/150\n",
      "703/703 [==============================] - 3s 5ms/step - loss: 0.1744 - accuracy: 0.9434\n",
      "Epoch 12/150\n",
      "703/703 [==============================] - 3s 5ms/step - loss: 0.1743 - accuracy: 0.9429\n",
      "Epoch 13/150\n",
      "703/703 [==============================] - 3s 4ms/step - loss: 0.1725 - accuracy: 0.9433\n",
      "Epoch 14/150\n",
      "703/703 [==============================] - 3s 5ms/step - loss: 0.1751 - accuracy: 0.9424\n",
      "Epoch 15/150\n",
      "703/703 [==============================] - 3s 4ms/step - loss: 0.1758 - accuracy: 0.9433\n",
      "Epoch 16/150\n",
      "703/703 [==============================] - 3s 4ms/step - loss: 0.1731 - accuracy: 0.9443\n",
      "Epoch 17/150\n",
      "703/703 [==============================] - 4s 5ms/step - loss: 0.1719 - accuracy: 0.9437\n",
      "Epoch 18/150\n",
      "703/703 [==============================] - 3s 5ms/step - loss: 0.1731 - accuracy: 0.9440\n",
      "Epoch 19/150\n",
      "703/703 [==============================] - 3s 4ms/step - loss: 0.1754 - accuracy: 0.9430\n",
      "Epoch 20/150\n",
      "703/703 [==============================] - 3s 4ms/step - loss: 0.1736 - accuracy: 0.9431\n",
      "Epoch 21/150\n",
      "703/703 [==============================] - 3s 4ms/step - loss: 0.1719 - accuracy: 0.9443\n",
      "Epoch 22/150\n",
      "703/703 [==============================] - 3s 5ms/step - loss: 0.1712 - accuracy: 0.9447\n",
      "Epoch 23/150\n",
      "703/703 [==============================] - 3s 4ms/step - loss: 0.1726 - accuracy: 0.9439\n",
      "Epoch 24/150\n",
      "703/703 [==============================] - 3s 4ms/step - loss: 0.1720 - accuracy: 0.9438\n",
      "Epoch 25/150\n",
      "703/703 [==============================] - 2s 3ms/step - loss: 0.1716 - accuracy: 0.9449\n",
      "Epoch 26/150\n",
      "703/703 [==============================] - 3s 4ms/step - loss: 0.1686 - accuracy: 0.9451\n",
      "Epoch 27/150\n",
      "703/703 [==============================] - 2s 4ms/step - loss: 0.1720 - accuracy: 0.9440\n",
      "Epoch 28/150\n",
      "703/703 [==============================] - 3s 4ms/step - loss: 0.1697 - accuracy: 0.9451\n",
      "Epoch 29/150\n",
      "703/703 [==============================] - 2s 4ms/step - loss: 0.1738 - accuracy: 0.9436\n",
      "Epoch 30/150\n",
      "703/703 [==============================] - 3s 4ms/step - loss: 0.1731 - accuracy: 0.9439\n",
      "Epoch 31/150\n",
      "703/703 [==============================] - 3s 4ms/step - loss: 0.1698 - accuracy: 0.9457\n",
      "Epoch 32/150\n",
      "703/703 [==============================] - 3s 4ms/step - loss: 0.1710 - accuracy: 0.9449\n",
      "Epoch 33/150\n",
      "703/703 [==============================] - 3s 4ms/step - loss: 0.1732 - accuracy: 0.9443\n",
      "Epoch 34/150\n",
      "703/703 [==============================] - 3s 4ms/step - loss: 0.1686 - accuracy: 0.9454\n",
      "Epoch 35/150\n",
      "703/703 [==============================] - 4s 6ms/step - loss: 0.1695 - accuracy: 0.9450\n",
      "Epoch 36/150\n",
      "703/703 [==============================] - 4s 5ms/step - loss: 0.1712 - accuracy: 0.9445\n",
      "Epoch 37/150\n",
      "703/703 [==============================] - 2s 3ms/step - loss: 0.1686 - accuracy: 0.9460\n",
      "Epoch 38/150\n",
      "703/703 [==============================] - 3s 4ms/step - loss: 0.1689 - accuracy: 0.9453\n",
      "Epoch 39/150\n",
      "703/703 [==============================] - 4s 6ms/step - loss: 0.1683 - accuracy: 0.9463\n",
      "Epoch 40/150\n",
      "703/703 [==============================] - 5s 7ms/step - loss: 0.1707 - accuracy: 0.9452\n",
      "Epoch 41/150\n",
      "703/703 [==============================] - 3s 4ms/step - loss: 0.1687 - accuracy: 0.9459\n",
      "Epoch 42/150\n",
      "703/703 [==============================] - 3s 5ms/step - loss: 0.1697 - accuracy: 0.9451\n",
      "Epoch 43/150\n",
      "703/703 [==============================] - 4s 6ms/step - loss: 0.1703 - accuracy: 0.9456\n",
      "Epoch 44/150\n",
      "703/703 [==============================] - 2s 4ms/step - loss: 0.1675 - accuracy: 0.9461\n",
      "Epoch 45/150\n",
      "703/703 [==============================] - 3s 5ms/step - loss: 0.1671 - accuracy: 0.9465\n",
      "Epoch 46/150\n",
      "703/703 [==============================] - 3s 5ms/step - loss: 0.1693 - accuracy: 0.9458\n",
      "Epoch 47/150\n",
      "703/703 [==============================] - 3s 4ms/step - loss: 0.1685 - accuracy: 0.9459\n",
      "Epoch 48/150\n",
      "703/703 [==============================] - 2s 3ms/step - loss: 0.1695 - accuracy: 0.9452\n",
      "Epoch 49/150\n",
      "703/703 [==============================] - 2s 3ms/step - loss: 0.1685 - accuracy: 0.9457\n",
      "Epoch 50/150\n",
      "703/703 [==============================] - 2s 2ms/step - loss: 0.1698 - accuracy: 0.9453\n",
      "Epoch 51/150\n",
      "703/703 [==============================] - 2s 2ms/step - loss: 0.1687 - accuracy: 0.9461\n",
      "Epoch 52/150\n",
      "703/703 [==============================] - 2s 3ms/step - loss: 0.1665 - accuracy: 0.9468\n",
      "Epoch 53/150\n",
      "703/703 [==============================] - 2s 2ms/step - loss: 0.1680 - accuracy: 0.9465\n",
      "Epoch 54/150\n",
      "703/703 [==============================] - 2s 2ms/step - loss: 0.1698 - accuracy: 0.9451\n",
      "Epoch 55/150\n",
      "703/703 [==============================] - 2s 2ms/step - loss: 0.1674 - accuracy: 0.9463\n",
      "Epoch 56/150\n",
      "703/703 [==============================] - 2s 3ms/step - loss: 0.1706 - accuracy: 0.9451: 0s - loss: 0.1707 - accuracy: 0.94 - ETA: 0s - loss: 0.1\n",
      "Epoch 57/150\n",
      "703/703 [==============================] - 2s 3ms/step - loss: 0.1697 - accuracy: 0.9455\n",
      "Epoch 58/150\n",
      "703/703 [==============================] - 2s 3ms/step - loss: 0.1693 - accuracy: 0.9453\n",
      "Epoch 59/150\n",
      "703/703 [==============================] - 2s 3ms/step - loss: 0.1672 - accuracy: 0.9463\n",
      "Epoch 60/150\n",
      "703/703 [==============================] - 2s 3ms/step - loss: 0.1676 - accuracy: 0.9462\n",
      "Epoch 61/150\n",
      "703/703 [==============================] - 2s 3ms/step - loss: 0.1668 - accuracy: 0.9468\n",
      "Epoch 62/150\n",
      "703/703 [==============================] - 2s 3ms/step - loss: 0.1699 - accuracy: 0.9456\n",
      "Epoch 63/150\n",
      "703/703 [==============================] - 2s 3ms/step - loss: 0.1689 - accuracy: 0.9459\n",
      "Epoch 64/150\n",
      "703/703 [==============================] - 2s 3ms/step - loss: 0.1673 - accuracy: 0.9467\n",
      "Epoch 65/150\n",
      "703/703 [==============================] - 3s 4ms/step - loss: 0.1681 - accuracy: 0.9456\n",
      "Epoch 66/150\n",
      "703/703 [==============================] - 3s 4ms/step - loss: 0.1682 - accuracy: 0.9471\n",
      "Epoch 67/150\n",
      "703/703 [==============================] - 2s 4ms/step - loss: 0.1706 - accuracy: 0.9460\n",
      "Epoch 68/150\n",
      "703/703 [==============================] - 3s 4ms/step - loss: 0.1676 - accuracy: 0.9463\n",
      "Epoch 69/150\n",
      "703/703 [==============================] - 3s 5ms/step - loss: 0.1651 - accuracy: 0.9473\n",
      "Epoch 70/150\n",
      "703/703 [==============================] - 4s 6ms/step - loss: 0.1678 - accuracy: 0.9462\n",
      "Epoch 71/150\n",
      "703/703 [==============================] - 3s 4ms/step - loss: 0.1691 - accuracy: 0.9456\n",
      "Epoch 72/150\n",
      "703/703 [==============================] - 3s 4ms/step - loss: 0.1678 - accuracy: 0.9463\n",
      "Epoch 73/150\n",
      "703/703 [==============================] - 3s 4ms/step - loss: 0.1665 - accuracy: 0.9461\n",
      "Epoch 74/150\n",
      "703/703 [==============================] - 4s 5ms/step - loss: 0.1673 - accuracy: 0.9464\n",
      "Epoch 75/150\n",
      "703/703 [==============================] - 3s 4ms/step - loss: 0.1668 - accuracy: 0.9458\n",
      "Epoch 76/150\n",
      "703/703 [==============================] - 4s 5ms/step - loss: 0.1690 - accuracy: 0.9464\n",
      "Epoch 77/150\n",
      "703/703 [==============================] - 3s 4ms/step - loss: 0.1684 - accuracy: 0.9460\n",
      "Epoch 78/150\n",
      "703/703 [==============================] - 3s 4ms/step - loss: 0.1712 - accuracy: 0.9447\n",
      "Epoch 79/150\n",
      "703/703 [==============================] - 3s 5ms/step - loss: 0.1684 - accuracy: 0.9462\n",
      "Epoch 80/150\n",
      "703/703 [==============================] - 3s 5ms/step - loss: 0.1667 - accuracy: 0.9463\n",
      "Epoch 81/150\n",
      "703/703 [==============================] - 3s 5ms/step - loss: 0.1674 - accuracy: 0.9465\n",
      "Epoch 82/150\n",
      "703/703 [==============================] - 3s 4ms/step - loss: 0.1688 - accuracy: 0.9455\n",
      "Epoch 83/150\n",
      "703/703 [==============================] - 3s 4ms/step - loss: 0.1672 - accuracy: 0.9466\n",
      "Epoch 84/150\n",
      "703/703 [==============================] - 3s 4ms/step - loss: 0.1666 - accuracy: 0.9466\n",
      "Epoch 85/150\n",
      "703/703 [==============================] - 4s 5ms/step - loss: 0.1667 - accuracy: 0.9463\n",
      "Epoch 86/150\n",
      "703/703 [==============================] - 4s 5ms/step - loss: 0.1674 - accuracy: 0.9463\n",
      "Epoch 87/150\n",
      "703/703 [==============================] - 3s 5ms/step - loss: 0.1684 - accuracy: 0.9458\n",
      "Epoch 88/150\n",
      "703/703 [==============================] - 3s 5ms/step - loss: 0.1681 - accuracy: 0.9455\n",
      "Epoch 89/150\n",
      "703/703 [==============================] - 3s 5ms/step - loss: 0.1697 - accuracy: 0.9458\n",
      "Epoch 90/150\n",
      "703/703 [==============================] - 3s 5ms/step - loss: 0.1690 - accuracy: 0.9460\n",
      "Epoch 91/150\n",
      "703/703 [==============================] - 3s 5ms/step - loss: 0.1666 - accuracy: 0.9468\n",
      "Epoch 92/150\n",
      "703/703 [==============================] - 3s 5ms/step - loss: 0.1693 - accuracy: 0.9456\n",
      "Epoch 93/150\n",
      "703/703 [==============================] - 3s 4ms/step - loss: 0.1654 - accuracy: 0.9470\n",
      "Epoch 94/150\n",
      "703/703 [==============================] - 3s 4ms/step - loss: 0.1691 - accuracy: 0.9455\n",
      "Epoch 95/150\n",
      "703/703 [==============================] - 3s 4ms/step - loss: 0.1674 - accuracy: 0.9463\n",
      "Epoch 96/150\n",
      "703/703 [==============================] - 3s 4ms/step - loss: 0.1686 - accuracy: 0.9459\n",
      "Epoch 97/150\n",
      "703/703 [==============================] - 3s 4ms/step - loss: 0.1686 - accuracy: 0.9463\n",
      "Epoch 98/150\n",
      "703/703 [==============================] - 2s 4ms/step - loss: 0.1682 - accuracy: 0.9465\n",
      "Epoch 99/150\n",
      "703/703 [==============================] - 3s 5ms/step - loss: 0.1662 - accuracy: 0.9470\n",
      "Epoch 100/150\n",
      "703/703 [==============================] - 4s 6ms/step - loss: 0.1684 - accuracy: 0.9464\n",
      "Epoch 101/150\n",
      "703/703 [==============================] - 4s 6ms/step - loss: 0.1700 - accuracy: 0.9455\n",
      "Epoch 102/150\n",
      "703/703 [==============================] - 3s 4ms/step - loss: 0.1684 - accuracy: 0.9459\n",
      "Epoch 103/150\n",
      "703/703 [==============================] - 4s 5ms/step - loss: 0.1659 - accuracy: 0.9465\n",
      "Epoch 104/150\n",
      "703/703 [==============================] - 3s 4ms/step - loss: 0.1663 - accuracy: 0.9468\n",
      "Epoch 105/150\n",
      "703/703 [==============================] - 3s 5ms/step - loss: 0.1698 - accuracy: 0.9455\n",
      "Epoch 106/150\n",
      "703/703 [==============================] - 3s 4ms/step - loss: 0.1659 - accuracy: 0.9466\n",
      "Epoch 107/150\n",
      "703/703 [==============================] - 3s 4ms/step - loss: 0.1656 - accuracy: 0.9469\n",
      "Epoch 108/150\n",
      "703/703 [==============================] - 3s 4ms/step - loss: 0.1674 - accuracy: 0.9466\n",
      "Epoch 109/150\n",
      "703/703 [==============================] - 3s 5ms/step - loss: 0.1676 - accuracy: 0.9467\n",
      "Epoch 110/150\n",
      "703/703 [==============================] - 3s 5ms/step - loss: 0.1656 - accuracy: 0.9471\n",
      "Epoch 111/150\n",
      "703/703 [==============================] - 3s 5ms/step - loss: 0.1666 - accuracy: 0.9461\n",
      "Epoch 112/150\n",
      "703/703 [==============================] - 3s 5ms/step - loss: 0.1661 - accuracy: 0.9465\n",
      "Epoch 113/150\n",
      "703/703 [==============================] - 3s 4ms/step - loss: 0.1679 - accuracy: 0.9464\n",
      "Epoch 114/150\n",
      "703/703 [==============================] - 3s 4ms/step - loss: 0.1658 - accuracy: 0.9466\n",
      "Epoch 115/150\n",
      "703/703 [==============================] - 3s 5ms/step - loss: 0.1680 - accuracy: 0.9459\n",
      "Epoch 116/150\n",
      "703/703 [==============================] - 4s 5ms/step - loss: 0.1672 - accuracy: 0.9469\n",
      "Epoch 117/150\n",
      "703/703 [==============================] - 4s 5ms/step - loss: 0.1671 - accuracy: 0.9461\n",
      "Epoch 118/150\n",
      "703/703 [==============================] - 3s 4ms/step - loss: 0.1686 - accuracy: 0.9462\n",
      "Epoch 119/150\n",
      "703/703 [==============================] - 3s 5ms/step - loss: 0.1677 - accuracy: 0.9464\n",
      "Epoch 120/150\n",
      "703/703 [==============================] - 3s 4ms/step - loss: 0.1662 - accuracy: 0.9460\n",
      "Epoch 121/150\n",
      "703/703 [==============================] - 3s 5ms/step - loss: 0.1678 - accuracy: 0.9460\n",
      "Epoch 122/150\n",
      "703/703 [==============================] - 4s 5ms/step - loss: 0.1666 - accuracy: 0.9462\n",
      "Epoch 123/150\n",
      "703/703 [==============================] - ETA: 0s - loss: 0.1686 - accuracy: 0.94 - 4s 5ms/step - loss: 0.1686 - accuracy: 0.9461\n",
      "Epoch 124/150\n",
      "703/703 [==============================] - 4s 5ms/step - loss: 0.1684 - accuracy: 0.9460\n",
      "Epoch 125/150\n",
      "703/703 [==============================] - 4s 5ms/step - loss: 0.1648 - accuracy: 0.9470\n",
      "Epoch 126/150\n",
      "703/703 [==============================] - 4s 5ms/step - loss: 0.1662 - accuracy: 0.9466\n",
      "Epoch 127/150\n",
      "703/703 [==============================] - 4s 5ms/step - loss: 0.1675 - accuracy: 0.9468\n",
      "Epoch 128/150\n",
      "703/703 [==============================] - 3s 5ms/step - loss: 0.1674 - accuracy: 0.9463\n",
      "Epoch 129/150\n",
      "703/703 [==============================] - 3s 5ms/step - loss: 0.1681 - accuracy: 0.9464\n",
      "Epoch 130/150\n",
      "703/703 [==============================] - 3s 5ms/step - loss: 0.1634 - accuracy: 0.9478\n",
      "Epoch 131/150\n",
      "703/703 [==============================] - 3s 5ms/step - loss: 0.1657 - accuracy: 0.9472\n",
      "Epoch 132/150\n",
      "703/703 [==============================] - 3s 5ms/step - loss: 0.1657 - accuracy: 0.9464\n",
      "Epoch 133/150\n",
      "703/703 [==============================] - 3s 5ms/step - loss: 0.1665 - accuracy: 0.9464\n",
      "Epoch 134/150\n",
      "703/703 [==============================] - 3s 5ms/step - loss: 0.1666 - accuracy: 0.9473\n",
      "Epoch 135/150\n",
      "703/703 [==============================] - 3s 5ms/step - loss: 0.1643 - accuracy: 0.9474\n",
      "Epoch 136/150\n",
      "703/703 [==============================] - 3s 4ms/step - loss: 0.1664 - accuracy: 0.9464\n",
      "Epoch 137/150\n",
      "703/703 [==============================] - 3s 5ms/step - loss: 0.1693 - accuracy: 0.9462\n",
      "Epoch 138/150\n",
      "703/703 [==============================] - 3s 5ms/step - loss: 0.1691 - accuracy: 0.9451\n",
      "Epoch 139/150\n",
      "703/703 [==============================] - 3s 5ms/step - loss: 0.1692 - accuracy: 0.9456\n",
      "Epoch 140/150\n",
      "703/703 [==============================] - 3s 4ms/step - loss: 0.1670 - accuracy: 0.9459\n",
      "Epoch 141/150\n",
      "703/703 [==============================] - 4s 5ms/step - loss: 0.1671 - accuracy: 0.9458\n",
      "Epoch 142/150\n",
      "703/703 [==============================] - 4s 5ms/step - loss: 0.1663 - accuracy: 0.9463\n",
      "Epoch 143/150\n",
      "703/703 [==============================] - 3s 4ms/step - loss: 0.1666 - accuracy: 0.9467\n",
      "Epoch 144/150\n",
      "703/703 [==============================] - 3s 4ms/step - loss: 0.1673 - accuracy: 0.9461\n",
      "Epoch 145/150\n",
      "703/703 [==============================] - 3s 5ms/step - loss: 0.1672 - accuracy: 0.9459\n",
      "Epoch 146/150\n",
      "703/703 [==============================] - 3s 5ms/step - loss: 0.1661 - accuracy: 0.9469\n",
      "Epoch 147/150\n",
      "703/703 [==============================] - 4s 5ms/step - loss: 0.1677 - accuracy: 0.9463\n",
      "Epoch 148/150\n",
      "703/703 [==============================] - 3s 5ms/step - loss: 0.1637 - accuracy: 0.9471\n",
      "Epoch 149/150\n",
      "703/703 [==============================] - 3s 5ms/step - loss: 0.1685 - accuracy: 0.9457\n",
      "Epoch 150/150\n",
      "703/703 [==============================] - 3s 5ms/step - loss: 0.1655 - accuracy: 0.9465\n"
     ]
    },
    {
     "data": {
      "text/plain": [
       "<keras.callbacks.History at 0x1540514b288>"
      ]
     },
     "execution_count": 227,
     "metadata": {},
     "output_type": "execute_result"
    }
   ],
   "source": [
    "...\n",
    "# Entrainement du modele\n",
    "callback = EarlyStopping(monitor = \"loss\", patience = 5)\n",
    "model.fit(X_train, y_train, epochs=150, batch_size=200, callback = callback)"
   ]
  },
  {
   "cell_type": "markdown",
   "metadata": {
    "id": "hck-3Djr4i0-"
   },
   "source": [
    "Aprés avoir entrainé le modele, on l'évalue  avec les données de test pour obtenir les mesures suivantes : Accuracy, f1_score , Recall, precision."
   ]
  },
  {
   "cell_type": "code",
   "execution_count": 228,
   "metadata": {
    "colab": {
     "base_uri": "https://localhost:8080/",
     "height": 0
    },
    "id": "NCVzwNCIfcOL",
    "outputId": "ae30286b-0aaa-4d30-ac95-5200128a1e6b"
   },
   "outputs": [
    {
     "name": "stdout",
     "output_type": "stream",
     "text": [
      "              precision    recall  f1-score   support\n",
      "\n",
      "           0       0.65      0.36      0.47      3867\n",
      "           1       0.96      0.99      0.97     56355\n",
      "\n",
      "    accuracy                           0.95     60222\n",
      "   macro avg       0.80      0.67      0.72     60222\n",
      "weighted avg       0.94      0.95      0.94     60222\n",
      "\n"
     ]
    }
   ],
   "source": [
    "y_ann = (model.predict(X_test) > 0.5).astype(int)\n",
    "print(classification_report(y_test, y_ann))"
   ]
  },
  {
   "cell_type": "markdown",
   "metadata": {
    "id": "HTyP1dbb5FBN"
   },
   "source": [
    "On re-echantillone a partir du fichier de données originale pour obtenir une variable cible équilibré (50% pour chaque modalité) "
   ]
  },
  {
   "cell_type": "markdown",
   "metadata": {},
   "source": [
    "### on balance les donnees"
   ]
  },
  {
   "cell_type": "code",
   "execution_count": 229,
   "metadata": {
    "id": "DSk_HLQ0YSkd"
   },
   "outputs": [],
   "source": [
    "# On sur-echantillone la modalité minoritaire dans le dataset\n",
    "y_train = y_train.to_frame()\n",
    "y_train.reset_index(inplace = True)\n",
    "y_train.drop([\"index\"], axis = 1)\n",
    "#\n",
    "X_surEch, y_surEch = resample(X_train[y_train['Display'] == 0],\n",
    "                                        y_train[y_train['Display'] == 0],\n",
    "                                        replace=True,\n",
    "                                        n_samples=X_train[y_train['Display'] == 1].shape[0],\n",
    "                                        random_state=123)\n",
    "#\n",
    "# On concatene le nouvel echantillon et les données d'entrainement\n",
    "#\n",
    "X_balancé = pd.concat((X_train[y_train['Display'] == 1], X_surEch))\n",
    "y_balancé = pd.concat((y_train[y_train['Display'] == 1], y_surEch))"
   ]
  },
  {
   "cell_type": "code",
   "execution_count": 233,
   "metadata": {
    "colab": {
     "base_uri": "https://localhost:8080/",
     "height": 0
    },
    "id": "H7OoWFAank8E",
    "outputId": "c8be5433-a8dd-46c4-b93a-8a9bbee7e704"
   },
   "outputs": [
    {
     "name": "stdout",
     "output_type": "stream",
     "text": [
      "0    50.0\n",
      "1    50.0\n",
      "Name: Display, dtype: float64\n"
     ]
    }
   ],
   "source": [
    "print(y_balancé[\"Display\"].value_counts()/y_balancé.shape[0] * 100) # Résultat après ré-echantillonage, meme distribution pour chaque modalité"
   ]
  },
  {
   "cell_type": "code",
   "execution_count": 234,
   "metadata": {
    "id": "dHPuYTGQiQFd"
   },
   "outputs": [],
   "source": [
    "y_balancé = y_balancé[\"Display\"]"
   ]
  },
  {
   "cell_type": "markdown",
   "metadata": {
    "id": "iCurBguz5-ir"
   },
   "source": [
    "On a effectué la classification RandomForest sur les données d'entrainement ré-échantillonés."
   ]
  },
  {
   "cell_type": "code",
   "execution_count": 236,
   "metadata": {
    "colab": {
     "base_uri": "https://localhost:8080/",
     "height": 0
    },
    "id": "yZuEpKUQiQeS",
    "outputId": "69eb5ef8-35e9-4c9d-f138-1c470b3b10b5"
   },
   "outputs": [],
   "source": [
    " #Modele de classification \"forets aléatoires\" avec 300 arbres de décision et le bootstraping activé\n",
    " rand_forest = RandomForestClassifier(n_estimators=300, min_samples_split=7, bootstrap=True, oob_score=True, n_jobs=-1, class_weight=\"balanced_subsample\")\n",
    " #Entrainement du modele\n",
    " rand_forest.fit(X_balancé, y_balancé)\n",
    " y_rand_forest = rand_forest.predict(X_test)"
   ]
  },
  {
   "cell_type": "markdown",
   "metadata": {
    "id": "oD5KSx7L6SLB"
   },
   "source": [
    "On a obtenue une performance similaire apres re-echantillonage."
   ]
  },
  {
   "cell_type": "code",
   "execution_count": 238,
   "metadata": {
    "colab": {
     "base_uri": "https://localhost:8080/",
     "height": 0
    },
    "id": "KE78F_imkrnm",
    "outputId": "e76c14f1-f7a6-4da9-bb89-e212a3cb3d4f"
   },
   "outputs": [
    {
     "name": "stdout",
     "output_type": "stream",
     "text": [
      "              precision    recall  f1-score   support\n",
      "\n",
      "           0       0.58      0.58      0.58      3867\n",
      "           1       0.97      0.97      0.97     56355\n",
      "\n",
      "    accuracy                           0.95     60222\n",
      "   macro avg       0.78      0.77      0.78     60222\n",
      "weighted avg       0.95      0.95      0.95     60222\n",
      "\n"
     ]
    }
   ],
   "source": [
    "print(classification_report(y_test, y_rand_forest))"
   ]
  },
  {
   "cell_type": "code",
   "execution_count": null,
   "metadata": {
    "id": "m-kLS7CBnS17"
   },
   "outputs": [],
   "source": []
  }
 ],
 "metadata": {
  "accelerator": "GPU",
  "colab": {
   "collapsed_sections": [],
   "name": "proj.ipynb",
   "provenance": []
  },
  "interpreter": {
   "hash": "133f9937c2592f9f131576e82545434e95734e7af5dbb8bb41d82c614a9c3c81"
  },
  "kernelspec": {
   "display_name": "Python 3",
   "language": "python",
   "name": "python3"
  },
  "language_info": {
   "codemirror_mode": {
    "name": "ipython",
    "version": 3
   },
   "file_extension": ".py",
   "mimetype": "text/x-python",
   "name": "python",
   "nbconvert_exporter": "python",
   "pygments_lexer": "ipython3",
   "version": "3.7.10"
  }
 },
 "nbformat": 4,
 "nbformat_minor": 1
}
